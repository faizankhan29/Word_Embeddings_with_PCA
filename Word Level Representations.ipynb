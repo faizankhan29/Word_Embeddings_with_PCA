{
 "cells": [
  {
   "cell_type": "markdown",
   "metadata": {},
   "source": [
    "## Idea of the Repository: (Work in Progress)\n",
    "\n",
    "The idea of the blog/repository is to:\n",
    "\n",
    "1) Explore PCA for text visualizations -- words, sentences, documents.\n",
    "\n",
    "2) Understand how using PCA helps improve text classification.\n",
    "\n",
    "3) Explore the Spotify Annoy library and test the text classification improvement using the same.\n",
    "\n",
    "4) (Optional) Explore the TSNE library for visualization and insights -- words, sentences, documents, text classification outputs."
   ]
  },
  {
   "cell_type": "markdown",
   "metadata": {},
   "source": [
    "## Importing Required Libraries"
   ]
  },
  {
   "cell_type": "code",
   "execution_count": 54,
   "metadata": {},
   "outputs": [],
   "source": [
    "import os\n",
    "import re\n",
    "import math\n",
    "import nltk\n",
    "import numpy as np\n",
    "import pandas as pd\n",
    "import matplotlib.pyplot as plt\n",
    "from nltk import FreqDist\n",
    "from nltk.util import ngrams\n",
    "from functools import reduce\n",
    "from collections import Counter\n",
    "from collections import defaultdict\n",
    "from nltk.corpus import stopwords\n",
    "from nltk.stem import WordNetLemmatizer\n",
    "from nltk import word_tokenize, sent_tokenize\n",
    "from sklearn.manifold import TSNE\n",
    "from sklearn.decomposition import PCA\n",
    "from sklearn.datasets import fetch_20newsgroups\n",
    "from sklearn.feature_extraction.text import CountVectorizer, TfidfVectorizer\n",
    "from sklearn.naive_bayes import MultinomialNB"
   ]
  },
  {
   "cell_type": "markdown",
   "metadata": {},
   "source": [
    "## Exploring the Data"
   ]
  },
  {
   "cell_type": "code",
   "execution_count": 55,
   "metadata": {},
   "outputs": [],
   "source": [
    "train = fetch_20newsgroups(subset=\"train\") \n",
    "test = fetch_20newsgroups(subset=\"test\")"
   ]
  },
  {
   "cell_type": "code",
   "execution_count": 57,
   "metadata": {},
   "outputs": [
    {
     "data": {
      "text/plain": [
       "['alt.atheism',\n",
       " 'comp.graphics',\n",
       " 'comp.os.ms-windows.misc',\n",
       " 'comp.sys.ibm.pc.hardware',\n",
       " 'comp.sys.mac.hardware',\n",
       " 'comp.windows.x',\n",
       " 'misc.forsale',\n",
       " 'rec.autos',\n",
       " 'rec.motorcycles',\n",
       " 'rec.sport.baseball',\n",
       " 'rec.sport.hockey',\n",
       " 'sci.crypt',\n",
       " 'sci.electronics',\n",
       " 'sci.med',\n",
       " 'sci.space',\n",
       " 'soc.religion.christian',\n",
       " 'talk.politics.guns',\n",
       " 'talk.politics.mideast',\n",
       " 'talk.politics.misc',\n",
       " 'talk.religion.misc']"
      ]
     },
     "execution_count": 57,
     "metadata": {},
     "output_type": "execute_result"
    }
   ],
   "source": [
    "train.target_names"
   ]
  },
  {
   "cell_type": "code",
   "execution_count": 58,
   "metadata": {},
   "outputs": [],
   "source": [
    "X_train = train[\"data\"]\n",
    "X_test = test[\"data\"]\n",
    "y_train = train[\"target\"] \n",
    "y_test = test[\"target\"]"
   ]
  },
  {
   "cell_type": "code",
   "execution_count": 59,
   "metadata": {},
   "outputs": [],
   "source": [
    "df_train = pd.DataFrame(X_train, columns=['message'])"
   ]
  },
  {
   "cell_type": "code",
   "execution_count": 60,
   "metadata": {},
   "outputs": [],
   "source": [
    "df_train['target'] = y_train"
   ]
  },
  {
   "cell_type": "code",
   "execution_count": 61,
   "metadata": {},
   "outputs": [
    {
     "data": {
      "text/html": [
       "<div>\n",
       "<style scoped>\n",
       "    .dataframe tbody tr th:only-of-type {\n",
       "        vertical-align: middle;\n",
       "    }\n",
       "\n",
       "    .dataframe tbody tr th {\n",
       "        vertical-align: top;\n",
       "    }\n",
       "\n",
       "    .dataframe thead th {\n",
       "        text-align: right;\n",
       "    }\n",
       "</style>\n",
       "<table border=\"1\" class=\"dataframe\">\n",
       "  <thead>\n",
       "    <tr style=\"text-align: right;\">\n",
       "      <th></th>\n",
       "      <th>message</th>\n",
       "      <th>target</th>\n",
       "    </tr>\n",
       "  </thead>\n",
       "  <tbody>\n",
       "    <tr>\n",
       "      <th>0</th>\n",
       "      <td>From: lerxst@wam.umd.edu (where's my thing)\\nS...</td>\n",
       "      <td>7</td>\n",
       "    </tr>\n",
       "    <tr>\n",
       "      <th>1</th>\n",
       "      <td>From: guykuo@carson.u.washington.edu (Guy Kuo)...</td>\n",
       "      <td>4</td>\n",
       "    </tr>\n",
       "    <tr>\n",
       "      <th>2</th>\n",
       "      <td>From: twillis@ec.ecn.purdue.edu (Thomas E Will...</td>\n",
       "      <td>4</td>\n",
       "    </tr>\n",
       "    <tr>\n",
       "      <th>3</th>\n",
       "      <td>From: jgreen@amber (Joe Green)\\nSubject: Re: W...</td>\n",
       "      <td>1</td>\n",
       "    </tr>\n",
       "    <tr>\n",
       "      <th>4</th>\n",
       "      <td>From: jcm@head-cfa.harvard.edu (Jonathan McDow...</td>\n",
       "      <td>14</td>\n",
       "    </tr>\n",
       "  </tbody>\n",
       "</table>\n",
       "</div>"
      ],
      "text/plain": [
       "                                             message  target\n",
       "0  From: lerxst@wam.umd.edu (where's my thing)\\nS...       7\n",
       "1  From: guykuo@carson.u.washington.edu (Guy Kuo)...       4\n",
       "2  From: twillis@ec.ecn.purdue.edu (Thomas E Will...       4\n",
       "3  From: jgreen@amber (Joe Green)\\nSubject: Re: W...       1\n",
       "4  From: jcm@head-cfa.harvard.edu (Jonathan McDow...      14"
      ]
     },
     "execution_count": 61,
     "metadata": {},
     "output_type": "execute_result"
    }
   ],
   "source": [
    "df_train.head()"
   ]
  },
  {
   "cell_type": "code",
   "execution_count": 62,
   "metadata": {},
   "outputs": [],
   "source": [
    "df_test = pd.DataFrame(X_test, columns = ['message'])\n",
    "df_test['target'] = y_test"
   ]
  },
  {
   "cell_type": "code",
   "execution_count": 63,
   "metadata": {},
   "outputs": [],
   "source": [
    "y_train = df_train['target']"
   ]
  },
  {
   "cell_type": "code",
   "execution_count": 64,
   "metadata": {},
   "outputs": [
    {
     "data": {
      "text/plain": [
       "\"From: guykuo@carson.u.washington.edu (Guy Kuo)\\nSubject: SI Clock Poll - Final Call\\nSummary: Final call for SI clock reports\\nKeywords: SI,acceleration,clock,upgrade\\nArticle-I.D.: shelley.1qvfo9INNc3s\\nOrganization: University of Washington\\nLines: 11\\nNNTP-Posting-Host: carson.u.washington.edu\\n\\nA fair number of brave souls who upgraded their SI clock oscillator have\\nshared their experiences for this poll. Please send a brief message detailing\\nyour experiences with the procedure. Top speed attained, CPU rated speed,\\nadd on cards and adapters, heat sinks, hour of usage per day, floppy disk\\nfunctionality with 800 and 1.4 m floppies are especially requested.\\n\\nI will be summarizing in the next two days, so please add to the network\\nknowledge base if you have done the clock upgrade and haven't answered this\\npoll. Thanks.\\n\\nGuy Kuo <guykuo@u.washington.edu>\\n\""
      ]
     },
     "execution_count": 64,
     "metadata": {},
     "output_type": "execute_result"
    }
   ],
   "source": [
    "df_train['message'].iloc[1]"
   ]
  },
  {
   "cell_type": "code",
   "execution_count": 65,
   "metadata": {},
   "outputs": [],
   "source": [
    "def clean_text(text):\n",
    "    text = text.lower()\n",
    "    text = re.sub(r'(@[A-Za-z0-9]+)|([^0-9A-Za-z \\t])',\" \", text)\n",
    "    return text"
   ]
  },
  {
   "cell_type": "code",
   "execution_count": 66,
   "metadata": {},
   "outputs": [],
   "source": [
    "df_train['cleaned_message'] = df_train['message'].apply(lambda x: clean_text(x))"
   ]
  },
  {
   "cell_type": "code",
   "execution_count": 67,
   "metadata": {},
   "outputs": [
    {
     "data": {
      "text/html": [
       "<div>\n",
       "<style scoped>\n",
       "    .dataframe tbody tr th:only-of-type {\n",
       "        vertical-align: middle;\n",
       "    }\n",
       "\n",
       "    .dataframe tbody tr th {\n",
       "        vertical-align: top;\n",
       "    }\n",
       "\n",
       "    .dataframe thead th {\n",
       "        text-align: right;\n",
       "    }\n",
       "</style>\n",
       "<table border=\"1\" class=\"dataframe\">\n",
       "  <thead>\n",
       "    <tr style=\"text-align: right;\">\n",
       "      <th></th>\n",
       "      <th>message</th>\n",
       "      <th>target</th>\n",
       "      <th>cleaned_message</th>\n",
       "    </tr>\n",
       "  </thead>\n",
       "  <tbody>\n",
       "    <tr>\n",
       "      <th>0</th>\n",
       "      <td>From: lerxst@wam.umd.edu (where's my thing)\\nS...</td>\n",
       "      <td>7</td>\n",
       "      <td>from  lerxst  umd edu  where s my thing  subje...</td>\n",
       "    </tr>\n",
       "    <tr>\n",
       "      <th>1</th>\n",
       "      <td>From: guykuo@carson.u.washington.edu (Guy Kuo)...</td>\n",
       "      <td>4</td>\n",
       "      <td>from  guykuo  u washington edu  guy kuo  subje...</td>\n",
       "    </tr>\n",
       "    <tr>\n",
       "      <th>2</th>\n",
       "      <td>From: twillis@ec.ecn.purdue.edu (Thomas E Will...</td>\n",
       "      <td>4</td>\n",
       "      <td>from  twillis  ecn purdue edu  thomas e willis...</td>\n",
       "    </tr>\n",
       "    <tr>\n",
       "      <th>3</th>\n",
       "      <td>From: jgreen@amber (Joe Green)\\nSubject: Re: W...</td>\n",
       "      <td>1</td>\n",
       "      <td>from  jgreen   joe green  subject  re  weitek ...</td>\n",
       "    </tr>\n",
       "    <tr>\n",
       "      <th>4</th>\n",
       "      <td>From: jcm@head-cfa.harvard.edu (Jonathan McDow...</td>\n",
       "      <td>14</td>\n",
       "      <td>from  jcm  cfa harvard edu  jonathan mcdowell ...</td>\n",
       "    </tr>\n",
       "  </tbody>\n",
       "</table>\n",
       "</div>"
      ],
      "text/plain": [
       "                                             message  target  \\\n",
       "0  From: lerxst@wam.umd.edu (where's my thing)\\nS...       7   \n",
       "1  From: guykuo@carson.u.washington.edu (Guy Kuo)...       4   \n",
       "2  From: twillis@ec.ecn.purdue.edu (Thomas E Will...       4   \n",
       "3  From: jgreen@amber (Joe Green)\\nSubject: Re: W...       1   \n",
       "4  From: jcm@head-cfa.harvard.edu (Jonathan McDow...      14   \n",
       "\n",
       "                                     cleaned_message  \n",
       "0  from  lerxst  umd edu  where s my thing  subje...  \n",
       "1  from  guykuo  u washington edu  guy kuo  subje...  \n",
       "2  from  twillis  ecn purdue edu  thomas e willis...  \n",
       "3  from  jgreen   joe green  subject  re  weitek ...  \n",
       "4  from  jcm  cfa harvard edu  jonathan mcdowell ...  "
      ]
     },
     "execution_count": 67,
     "metadata": {},
     "output_type": "execute_result"
    }
   ],
   "source": [
    "df_train.head()"
   ]
  },
  {
   "cell_type": "code",
   "execution_count": 68,
   "metadata": {},
   "outputs": [],
   "source": [
    "df_train['len'] = df_train['cleaned_message'].apply(lambda x:len(x))"
   ]
  },
  {
   "cell_type": "code",
   "execution_count": 69,
   "metadata": {},
   "outputs": [
    {
     "data": {
      "text/html": [
       "<div>\n",
       "<style scoped>\n",
       "    .dataframe tbody tr th:only-of-type {\n",
       "        vertical-align: middle;\n",
       "    }\n",
       "\n",
       "    .dataframe tbody tr th {\n",
       "        vertical-align: top;\n",
       "    }\n",
       "\n",
       "    .dataframe thead th {\n",
       "        text-align: right;\n",
       "    }\n",
       "</style>\n",
       "<table border=\"1\" class=\"dataframe\">\n",
       "  <thead>\n",
       "    <tr style=\"text-align: right;\">\n",
       "      <th></th>\n",
       "      <th>message</th>\n",
       "      <th>target</th>\n",
       "      <th>cleaned_message</th>\n",
       "      <th>len</th>\n",
       "    </tr>\n",
       "  </thead>\n",
       "  <tbody>\n",
       "    <tr>\n",
       "      <th>0</th>\n",
       "      <td>From: lerxst@wam.umd.edu (where's my thing)\\nS...</td>\n",
       "      <td>7</td>\n",
       "      <td>from  lerxst  umd edu  where s my thing  subje...</td>\n",
       "      <td>718</td>\n",
       "    </tr>\n",
       "    <tr>\n",
       "      <th>1</th>\n",
       "      <td>From: guykuo@carson.u.washington.edu (Guy Kuo)...</td>\n",
       "      <td>4</td>\n",
       "      <td>from  guykuo  u washington edu  guy kuo  subje...</td>\n",
       "      <td>851</td>\n",
       "    </tr>\n",
       "    <tr>\n",
       "      <th>2</th>\n",
       "      <td>From: twillis@ec.ecn.purdue.edu (Thomas E Will...</td>\n",
       "      <td>4</td>\n",
       "      <td>from  twillis  ecn purdue edu  thomas e willis...</td>\n",
       "      <td>1976</td>\n",
       "    </tr>\n",
       "    <tr>\n",
       "      <th>3</th>\n",
       "      <td>From: jgreen@amber (Joe Green)\\nSubject: Re: W...</td>\n",
       "      <td>1</td>\n",
       "      <td>from  jgreen   joe green  subject  re  weitek ...</td>\n",
       "      <td>790</td>\n",
       "    </tr>\n",
       "    <tr>\n",
       "      <th>4</th>\n",
       "      <td>From: jcm@head-cfa.harvard.edu (Jonathan McDow...</td>\n",
       "      <td>14</td>\n",
       "      <td>from  jcm  cfa harvard edu  jonathan mcdowell ...</td>\n",
       "      <td>1098</td>\n",
       "    </tr>\n",
       "  </tbody>\n",
       "</table>\n",
       "</div>"
      ],
      "text/plain": [
       "                                             message  target  \\\n",
       "0  From: lerxst@wam.umd.edu (where's my thing)\\nS...       7   \n",
       "1  From: guykuo@carson.u.washington.edu (Guy Kuo)...       4   \n",
       "2  From: twillis@ec.ecn.purdue.edu (Thomas E Will...       4   \n",
       "3  From: jgreen@amber (Joe Green)\\nSubject: Re: W...       1   \n",
       "4  From: jcm@head-cfa.harvard.edu (Jonathan McDow...      14   \n",
       "\n",
       "                                     cleaned_message   len  \n",
       "0  from  lerxst  umd edu  where s my thing  subje...   718  \n",
       "1  from  guykuo  u washington edu  guy kuo  subje...   851  \n",
       "2  from  twillis  ecn purdue edu  thomas e willis...  1976  \n",
       "3  from  jgreen   joe green  subject  re  weitek ...   790  \n",
       "4  from  jcm  cfa harvard edu  jonathan mcdowell ...  1098  "
      ]
     },
     "execution_count": 69,
     "metadata": {},
     "output_type": "execute_result"
    }
   ],
   "source": [
    "df_train.head()"
   ]
  },
  {
   "cell_type": "code",
   "execution_count": 134,
   "metadata": {},
   "outputs": [],
   "source": [
    "from gensim.models import Word2Vec\n",
    "tokens = [nltk.word_tokenize(words) for words in df_train['cleaned_message'][0:2]]\n",
    "model = Word2Vec(tokens,size=50,sg=1,min_count=1)"
   ]
  },
  {
   "cell_type": "code",
   "execution_count": 135,
   "metadata": {},
   "outputs": [
    {
     "name": "stdout",
     "output_type": "stream",
     "text": [
      "['from', 'lerxst', 'umd', 'edu', 'where', 's', 'my', 'thing', 'subject', 'what', 'car', 'is', 'this', 'nntp', 'posting', 'host', 'rac3', 'wam', 'umd', 'edu', 'organization', 'university', 'of', 'maryland', 'college', 'park', 'lines', '15', 'i', 'was', 'wondering', 'if', 'anyone', 'out', 'there', 'could', 'enlighten', 'me', 'on', 'this', 'car', 'i', 'saw', 'the', 'other', 'day', 'it', 'was', 'a', '2', 'door', 'sports', 'car', 'looked', 'to', 'be', 'from', 'the', 'late', '60s', 'early', '70s', 'it', 'was', 'called', 'a', 'bricklin', 'the', 'doors', 'were', 'really', 'small', 'in', 'addition', 'the', 'front', 'bumper', 'was', 'separate', 'from', 'the', 'rest', 'of', 'the', 'body', 'this', 'is', 'all', 'i', 'know', 'if', 'anyone', 'can', 'tellme', 'a', 'model', 'name', 'engine', 'specs', 'years', 'of', 'production', 'where', 'this', 'car', 'is', 'made', 'history', 'or', 'whatever', 'info', 'you', 'have', 'on', 'this', 'funky', 'looking', 'car', 'please', 'e', 'mail', 'thanks', 'il', 'brought', 'to', 'you', 'by', 'your', 'neighborhood', 'lerxst']\n"
     ]
    }
   ],
   "source": [
    "print(tokens[0])"
   ]
  },
  {
   "cell_type": "code",
   "execution_count": 136,
   "metadata": {},
   "outputs": [
    {
     "name": "stdout",
     "output_type": "stream",
     "text": [
      "['from', 'lerxst', 'umd', 'edu', 'where', 's', 'my', 'thing', 'subject', 'what', 'car', 'is', 'this', 'nntp', 'posting', 'host', 'rac3', 'wam', 'organization', 'university', 'of', 'maryland', 'college', 'park', 'lines', '15', 'i', 'was', 'wondering', 'if', 'anyone', 'out', 'there', 'could', 'enlighten', 'me', 'on', 'saw', 'the', 'other', 'day', 'it', 'a', '2', 'door', 'sports', 'looked', 'to', 'be', 'late', '60s', 'early', '70s', 'called', 'bricklin', 'doors', 'were', 'really', 'small', 'in', 'addition', 'front', 'bumper', 'separate', 'rest', 'body', 'all', 'know', 'can', 'tellme', 'model', 'name', 'engine', 'specs', 'years', 'production', 'made', 'history', 'or', 'whatever', 'info', 'you', 'have', 'funky', 'looking', 'please', 'e', 'mail', 'thanks', 'il', 'brought', 'by', 'your', 'neighborhood', 'guykuo', 'u', 'washington', 'guy', 'kuo', 'si', 'clock', 'poll', 'final', 'call', 'summary', 'for', 'reports', 'keywords', 'acceleration', 'upgrade', 'article', 'd', 'shelley', '1qvfo9innc3s', '11', 'carson', 'fair', 'number', 'brave', 'souls', 'who', 'upgraded', 'their', 'oscillator', 'shared', 'experiences', 'send', 'brief', 'message', 'detailing', 'with', 'procedure', 'top', 'speed', 'attained', 'cpu', 'rated', 'add', 'cards', 'and', 'adapters', 'heat', 'sinks', 'hour', 'usage', 'per', 'floppy', 'disk', 'functionality', '800', '1', '4', 'm', 'floppies', 'are', 'especially', 'requested', 'will', 'summarizing', 'next', 'two', 'days', 'so', 'network', 'knowledge', 'base', 'done', 'haven', 't', 'answered']\n"
     ]
    }
   ],
   "source": [
    "words=list(model.wv.vocab)\n",
    "print(words)"
   ]
  },
  {
   "cell_type": "code",
   "execution_count": 137,
   "metadata": {},
   "outputs": [
    {
     "name": "stderr",
     "output_type": "stream",
     "text": [
      "/home/faizan/.local/lib/python3.6/site-packages/ipykernel_launcher.py:1: DeprecationWarning: Call to deprecated `__getitem__` (Method will be removed in 4.0.0, use self.wv.__getitem__() instead).\n",
      "  \"\"\"Entry point for launching an IPython kernel.\n"
     ]
    },
    {
     "data": {
      "text/html": [
       "<div>\n",
       "<style scoped>\n",
       "    .dataframe tbody tr th:only-of-type {\n",
       "        vertical-align: middle;\n",
       "    }\n",
       "\n",
       "    .dataframe tbody tr th {\n",
       "        vertical-align: top;\n",
       "    }\n",
       "\n",
       "    .dataframe thead th {\n",
       "        text-align: right;\n",
       "    }\n",
       "</style>\n",
       "<table border=\"1\" class=\"dataframe\">\n",
       "  <thead>\n",
       "    <tr style=\"text-align: right;\">\n",
       "      <th></th>\n",
       "      <th>0</th>\n",
       "      <th>1</th>\n",
       "      <th>2</th>\n",
       "      <th>3</th>\n",
       "      <th>4</th>\n",
       "      <th>5</th>\n",
       "      <th>6</th>\n",
       "      <th>7</th>\n",
       "      <th>8</th>\n",
       "      <th>9</th>\n",
       "      <th>...</th>\n",
       "      <th>40</th>\n",
       "      <th>41</th>\n",
       "      <th>42</th>\n",
       "      <th>43</th>\n",
       "      <th>44</th>\n",
       "      <th>45</th>\n",
       "      <th>46</th>\n",
       "      <th>47</th>\n",
       "      <th>48</th>\n",
       "      <th>49</th>\n",
       "    </tr>\n",
       "  </thead>\n",
       "  <tbody>\n",
       "    <tr>\n",
       "      <th>0</th>\n",
       "      <td>-0.009989</td>\n",
       "      <td>0.004815</td>\n",
       "      <td>0.004198</td>\n",
       "      <td>0.004412</td>\n",
       "      <td>0.009330</td>\n",
       "      <td>0.007133</td>\n",
       "      <td>-0.003564</td>\n",
       "      <td>-0.005750</td>\n",
       "      <td>-0.002749</td>\n",
       "      <td>0.004432</td>\n",
       "      <td>...</td>\n",
       "      <td>0.005346</td>\n",
       "      <td>0.009430</td>\n",
       "      <td>-0.004300</td>\n",
       "      <td>-0.005136</td>\n",
       "      <td>0.005451</td>\n",
       "      <td>-0.001719</td>\n",
       "      <td>0.007762</td>\n",
       "      <td>0.000237</td>\n",
       "      <td>-0.000652</td>\n",
       "      <td>-0.003665</td>\n",
       "    </tr>\n",
       "    <tr>\n",
       "      <th>1</th>\n",
       "      <td>0.005860</td>\n",
       "      <td>0.002035</td>\n",
       "      <td>0.001081</td>\n",
       "      <td>-0.001575</td>\n",
       "      <td>-0.002118</td>\n",
       "      <td>0.009427</td>\n",
       "      <td>-0.007995</td>\n",
       "      <td>0.002575</td>\n",
       "      <td>-0.005749</td>\n",
       "      <td>-0.004265</td>\n",
       "      <td>...</td>\n",
       "      <td>-0.008569</td>\n",
       "      <td>-0.007516</td>\n",
       "      <td>0.003275</td>\n",
       "      <td>0.006578</td>\n",
       "      <td>0.005648</td>\n",
       "      <td>-0.002565</td>\n",
       "      <td>-0.003419</td>\n",
       "      <td>0.007483</td>\n",
       "      <td>0.003036</td>\n",
       "      <td>-0.002221</td>\n",
       "    </tr>\n",
       "    <tr>\n",
       "      <th>2</th>\n",
       "      <td>-0.005434</td>\n",
       "      <td>-0.001019</td>\n",
       "      <td>0.005429</td>\n",
       "      <td>-0.003852</td>\n",
       "      <td>-0.008293</td>\n",
       "      <td>-0.006689</td>\n",
       "      <td>-0.008497</td>\n",
       "      <td>0.003338</td>\n",
       "      <td>0.002787</td>\n",
       "      <td>-0.007812</td>\n",
       "      <td>...</td>\n",
       "      <td>-0.006771</td>\n",
       "      <td>0.000722</td>\n",
       "      <td>-0.009530</td>\n",
       "      <td>0.006312</td>\n",
       "      <td>0.006278</td>\n",
       "      <td>0.000020</td>\n",
       "      <td>0.000134</td>\n",
       "      <td>-0.004110</td>\n",
       "      <td>0.003769</td>\n",
       "      <td>-0.007478</td>\n",
       "    </tr>\n",
       "    <tr>\n",
       "      <th>3</th>\n",
       "      <td>-0.009682</td>\n",
       "      <td>-0.003035</td>\n",
       "      <td>-0.008217</td>\n",
       "      <td>-0.005283</td>\n",
       "      <td>0.008222</td>\n",
       "      <td>0.004890</td>\n",
       "      <td>0.001706</td>\n",
       "      <td>-0.008095</td>\n",
       "      <td>-0.009493</td>\n",
       "      <td>-0.002188</td>\n",
       "      <td>...</td>\n",
       "      <td>-0.007001</td>\n",
       "      <td>-0.004944</td>\n",
       "      <td>0.010000</td>\n",
       "      <td>0.008304</td>\n",
       "      <td>0.003084</td>\n",
       "      <td>0.000673</td>\n",
       "      <td>0.000616</td>\n",
       "      <td>-0.008937</td>\n",
       "      <td>-0.009456</td>\n",
       "      <td>0.004461</td>\n",
       "    </tr>\n",
       "    <tr>\n",
       "      <th>4</th>\n",
       "      <td>0.003036</td>\n",
       "      <td>-0.008764</td>\n",
       "      <td>-0.008309</td>\n",
       "      <td>0.001128</td>\n",
       "      <td>-0.001560</td>\n",
       "      <td>0.007496</td>\n",
       "      <td>0.006619</td>\n",
       "      <td>-0.007461</td>\n",
       "      <td>0.006596</td>\n",
       "      <td>-0.007209</td>\n",
       "      <td>...</td>\n",
       "      <td>0.004050</td>\n",
       "      <td>0.000854</td>\n",
       "      <td>-0.001864</td>\n",
       "      <td>-0.006188</td>\n",
       "      <td>-0.008889</td>\n",
       "      <td>0.002540</td>\n",
       "      <td>-0.007037</td>\n",
       "      <td>0.009701</td>\n",
       "      <td>0.004705</td>\n",
       "      <td>0.004742</td>\n",
       "    </tr>\n",
       "  </tbody>\n",
       "</table>\n",
       "<p>5 rows × 50 columns</p>\n",
       "</div>"
      ],
      "text/plain": [
       "         0         1         2         3         4         5         6   \\\n",
       "0 -0.009989  0.004815  0.004198  0.004412  0.009330  0.007133 -0.003564   \n",
       "1  0.005860  0.002035  0.001081 -0.001575 -0.002118  0.009427 -0.007995   \n",
       "2 -0.005434 -0.001019  0.005429 -0.003852 -0.008293 -0.006689 -0.008497   \n",
       "3 -0.009682 -0.003035 -0.008217 -0.005283  0.008222  0.004890  0.001706   \n",
       "4  0.003036 -0.008764 -0.008309  0.001128 -0.001560  0.007496  0.006619   \n",
       "\n",
       "         7         8         9   ...        40        41        42        43  \\\n",
       "0 -0.005750 -0.002749  0.004432  ...  0.005346  0.009430 -0.004300 -0.005136   \n",
       "1  0.002575 -0.005749 -0.004265  ... -0.008569 -0.007516  0.003275  0.006578   \n",
       "2  0.003338  0.002787 -0.007812  ... -0.006771  0.000722 -0.009530  0.006312   \n",
       "3 -0.008095 -0.009493 -0.002188  ... -0.007001 -0.004944  0.010000  0.008304   \n",
       "4 -0.007461  0.006596 -0.007209  ...  0.004050  0.000854 -0.001864 -0.006188   \n",
       "\n",
       "         44        45        46        47        48        49  \n",
       "0  0.005451 -0.001719  0.007762  0.000237 -0.000652 -0.003665  \n",
       "1  0.005648 -0.002565 -0.003419  0.007483  0.003036 -0.002221  \n",
       "2  0.006278  0.000020  0.000134 -0.004110  0.003769 -0.007478  \n",
       "3  0.003084  0.000673  0.000616 -0.008937 -0.009456  0.004461  \n",
       "4 -0.008889  0.002540 -0.007037  0.009701  0.004705  0.004742  \n",
       "\n",
       "[5 rows x 50 columns]"
      ]
     },
     "execution_count": 137,
     "metadata": {},
     "output_type": "execute_result"
    }
   ],
   "source": [
    "X=model[model.wv.vocab]\n",
    "df=pd.DataFrame(X)\n",
    "df.shape\n",
    "df.head()"
   ]
  },
  {
   "cell_type": "code",
   "execution_count": 138,
   "metadata": {},
   "outputs": [],
   "source": [
    "#Computing the correlation matrix\n",
    "X_corr=df.corr()\n",
    "\n",
    "#Computing eigen values and eigen vectors\n",
    "values,vectors=np.linalg.eig(X_corr)\n",
    "\n",
    "#Sorting the eigen vectors coresponding to eigen values in descending order\n",
    "args = (-values).argsort()\n",
    "values = vectors[args]\n",
    "vectors = vectors[:, args]\n",
    "\n",
    "#Taking first 2 components which explain maximum variance for projecting\n",
    "new_vectors=vectors[:,:2]\n",
    "\n",
    "#Projecting it onto new dimesion with 2 axis\n",
    "new_X=np.dot(X,new_vectors)"
   ]
  },
  {
   "cell_type": "code",
   "execution_count": 139,
   "metadata": {},
   "outputs": [
    {
     "data": {
      "text/plain": [
       "array([[-4.08604497e-03,  5.59975367e-03],\n",
       "       [-1.41327652e-03,  1.65626636e-03],\n",
       "       [-2.87042801e-03,  9.58669509e-03],\n",
       "       [ 3.36688340e-04,  4.87566267e-03],\n",
       "       [ 1.84245500e-02,  2.31150580e-03],\n",
       "       [ 9.66404341e-03,  5.57039410e-04],\n",
       "       [-1.41551814e-02,  5.87570612e-03],\n",
       "       [-2.37397446e-03, -8.76750736e-03],\n",
       "       [ 2.67895094e-03, -1.32308804e-03],\n",
       "       [-1.31230281e-02, -1.34732625e-02],\n",
       "       [-4.98180630e-03, -4.87862400e-03],\n",
       "       [-8.35165628e-03,  4.55237454e-03],\n",
       "       [ 9.32985526e-03, -5.40306107e-03],\n",
       "       [ 1.08986946e-02,  8.54208884e-03],\n",
       "       [-1.03374875e-02,  2.01329486e-03],\n",
       "       [ 5.20377605e-03, -1.00693937e-02],\n",
       "       [-1.20351050e-03,  2.54059901e-03],\n",
       "       [ 1.81776844e-02,  4.37965621e-03],\n",
       "       [ 3.13088013e-03,  2.64672240e-03],\n",
       "       [ 2.30257285e-03,  9.28454177e-03],\n",
       "       [-1.56089815e-03,  9.28857735e-03],\n",
       "       [-5.12757198e-03,  6.58628435e-03],\n",
       "       [-5.85277914e-03, -2.16252787e-03],\n",
       "       [ 5.61446693e-03,  8.50147410e-04],\n",
       "       [ 3.34203413e-03, -8.80602943e-04],\n",
       "       [ 1.70372301e-02, -1.06376502e-02],\n",
       "       [-2.98440402e-03, -3.57418061e-03],\n",
       "       [ 5.73878801e-03, -1.40346677e-03],\n",
       "       [ 1.80908951e-03,  1.35874013e-03],\n",
       "       [ 2.27076252e-02, -2.94272785e-03],\n",
       "       [ 6.93456227e-03,  4.73754228e-03],\n",
       "       [-7.06426502e-03, -6.36305252e-03],\n",
       "       [-1.18888556e-02,  3.65565242e-03],\n",
       "       [-1.75002463e-02, -2.76592331e-03],\n",
       "       [-1.87223409e-03, -1.27948577e-02],\n",
       "       [-1.19585411e-02,  1.46393733e-02],\n",
       "       [-9.86982087e-03, -5.10921868e-03],\n",
       "       [-1.40786603e-02,  3.66522381e-03],\n",
       "       [-2.77793938e-03,  4.64602710e-03],\n",
       "       [ 1.29209237e-02, -9.34525276e-04],\n",
       "       [-1.38942668e-02,  5.46528923e-03],\n",
       "       [ 3.89912283e-03, -3.15775227e-04],\n",
       "       [-1.36055954e-02,  3.18414718e-03],\n",
       "       [-6.43120214e-03, -2.04504144e-03],\n",
       "       [-5.61993522e-03,  9.69407700e-03],\n",
       "       [-2.21989315e-03, -2.10128959e-03],\n",
       "       [-3.68195908e-03, -2.06384195e-04],\n",
       "       [-1.33872710e-03,  8.59888990e-03],\n",
       "       [ 1.45108570e-02, -3.98849831e-03],\n",
       "       [ 1.22598213e-03,  1.01176835e-02],\n",
       "       [-1.57945709e-02, -1.43133197e-02],\n",
       "       [-8.28741353e-06, -5.54206713e-03],\n",
       "       [ 8.31386980e-03,  1.54994355e-02],\n",
       "       [-2.42641091e-03,  3.09309862e-03],\n",
       "       [ 7.45409033e-03, -4.36484978e-03],\n",
       "       [ 3.67485596e-03,  4.62769944e-03],\n",
       "       [ 3.07778253e-03,  2.08220583e-02],\n",
       "       [-1.23236665e-02, -4.28876672e-03],\n",
       "       [ 5.36789971e-03, -1.35791490e-02],\n",
       "       [-1.36027793e-02, -4.22367816e-03],\n",
       "       [ 1.63166875e-02,  6.03993154e-03],\n",
       "       [ 8.01335678e-03,  5.31894063e-03],\n",
       "       [ 5.45614784e-03, -1.73285117e-03],\n",
       "       [-3.32720357e-03, -6.00934909e-03],\n",
       "       [ 2.56831025e-03, -5.01263483e-03],\n",
       "       [ 9.66292090e-03,  9.66013035e-04],\n",
       "       [ 2.13001495e-02,  1.30913860e-03],\n",
       "       [ 9.29906185e-04, -1.29241586e-02],\n",
       "       [-9.36674890e-03,  9.93313790e-04],\n",
       "       [ 3.14705409e-03, -1.03245115e-02],\n",
       "       [ 3.49271398e-03, -2.93963097e-04],\n",
       "       [-1.57010625e-02, -1.00135186e-02],\n",
       "       [ 6.26722255e-03,  8.41908949e-03],\n",
       "       [-4.49737646e-03, -8.65533749e-03],\n",
       "       [ 7.21332576e-03, -2.98798548e-03],\n",
       "       [-2.83490681e-03, -1.02279946e-02],\n",
       "       [-1.20709795e-02, -7.32827990e-03],\n",
       "       [-5.83758908e-03, -6.22378179e-03],\n",
       "       [-6.36964322e-03, -6.29477659e-03],\n",
       "       [ 4.28149370e-03,  7.95506388e-03],\n",
       "       [-1.82286021e-02,  5.41553691e-03],\n",
       "       [-1.18385429e-03,  2.04912488e-02],\n",
       "       [ 5.33784567e-03, -1.76168194e-02],\n",
       "       [-8.82046272e-03, -5.75503801e-03],\n",
       "       [-1.16464904e-02,  2.95882915e-03],\n",
       "       [-6.05551668e-03, -3.94338995e-03],\n",
       "       [-1.28712965e-02, -9.30777246e-03],\n",
       "       [ 8.55183222e-03, -1.02961720e-02],\n",
       "       [ 1.05530298e-03, -4.51240193e-03],\n",
       "       [ 3.66745001e-03,  4.48868673e-03],\n",
       "       [ 4.96268419e-03,  1.77493147e-04],\n",
       "       [ 7.47242618e-03, -8.07119769e-03],\n",
       "       [ 1.91408846e-03, -8.15324937e-03],\n",
       "       [-1.38909938e-03,  7.20248066e-03],\n",
       "       [ 4.70739806e-03, -1.72639162e-03],\n",
       "       [-4.71101954e-03, -2.63916033e-03],\n",
       "       [-1.46259249e-02,  5.28247965e-03],\n",
       "       [ 7.39026888e-03, -5.06693850e-03],\n",
       "       [-5.95185416e-04, -1.09812772e-02],\n",
       "       [-6.69767754e-03,  1.35041671e-02],\n",
       "       [ 2.19060597e-03, -1.54951652e-02],\n",
       "       [ 1.75771707e-02,  4.55334907e-03],\n",
       "       [-8.76560122e-04, -9.06317850e-03],\n",
       "       [-9.34050440e-03, -1.68150807e-02],\n",
       "       [ 7.84565407e-03,  9.16600441e-03],\n",
       "       [ 4.41324584e-03, -4.36040091e-03],\n",
       "       [-5.29979144e-03, -1.89859143e-02],\n",
       "       [-2.03780884e-02,  4.08714895e-04],\n",
       "       [-3.97410548e-03,  3.57388684e-03],\n",
       "       [-8.56397743e-03,  4.72779365e-03],\n",
       "       [-2.23286158e-03,  7.85622224e-04],\n",
       "       [ 3.08658242e-03,  6.58856402e-04],\n",
       "       [-1.68228539e-02,  6.50507928e-03],\n",
       "       [ 1.12672012e-02,  7.02663897e-03],\n",
       "       [-1.72152705e-02,  2.98695488e-03],\n",
       "       [-1.48890472e-03, -1.68375045e-03],\n",
       "       [ 8.73505912e-04, -5.87660053e-03],\n",
       "       [-5.11753638e-04, -5.89731400e-05],\n",
       "       [-1.03178583e-02,  2.50507913e-02],\n",
       "       [ 1.42136689e-02, -3.99313953e-03],\n",
       "       [ 4.51352301e-03,  6.07306161e-03],\n",
       "       [-4.26271835e-03,  3.13027198e-04],\n",
       "       [-1.52201239e-02,  3.26435734e-04],\n",
       "       [ 6.18433535e-04,  5.09172422e-03],\n",
       "       [ 7.15014808e-03,  2.34454989e-02],\n",
       "       [-3.04827264e-03, -4.52036913e-03],\n",
       "       [ 2.58343968e-03, -6.02162513e-03],\n",
       "       [-3.13313823e-03, -6.96607125e-03],\n",
       "       [ 3.92646333e-03,  7.46268471e-03],\n",
       "       [-1.26108022e-02, -1.12230789e-02],\n",
       "       [ 1.00467587e-03,  2.20998718e-04],\n",
       "       [-5.13977839e-03,  2.65896793e-03],\n",
       "       [ 8.52001304e-03, -9.74722596e-03],\n",
       "       [-7.45799177e-03, -1.48469896e-02],\n",
       "       [ 8.52111048e-03, -2.19688347e-02],\n",
       "       [-8.61580741e-03, -7.05830621e-04],\n",
       "       [ 2.32837443e-03,  2.28351631e-04],\n",
       "       [ 3.06117699e-04,  3.47348404e-03],\n",
       "       [-1.00921021e-02,  1.93975708e-02],\n",
       "       [-4.34410132e-03, -3.70766589e-03],\n",
       "       [-8.76625024e-03, -1.41691855e-02],\n",
       "       [-1.04032281e-02, -1.94063651e-03],\n",
       "       [ 7.43672658e-03,  1.05266089e-02],\n",
       "       [-1.31697289e-03,  6.85044355e-03],\n",
       "       [-9.78843010e-03,  1.03990960e-02],\n",
       "       [ 4.22733147e-03, -5.01637455e-03],\n",
       "       [ 7.01228246e-03,  2.72731719e-03],\n",
       "       [ 2.42736987e-02, -4.03532438e-03],\n",
       "       [-4.87377816e-03,  3.97592551e-03],\n",
       "       [ 8.98288287e-03,  1.57469623e-02],\n",
       "       [-1.77887400e-02, -6.64422903e-03],\n",
       "       [ 7.22384666e-03,  8.10758787e-03],\n",
       "       [-1.31338038e-02,  1.45593289e-02],\n",
       "       [-1.37277519e-03, -1.08123559e-02],\n",
       "       [-6.82708469e-03, -1.13414767e-02],\n",
       "       [ 4.47059126e-03, -6.56368218e-03],\n",
       "       [ 8.09035739e-03, -2.43871134e-03],\n",
       "       [ 5.18586826e-03,  4.23807486e-03],\n",
       "       [-3.03261144e-03,  4.55857583e-03],\n",
       "       [-1.35041483e-02,  9.13036592e-03],\n",
       "       [ 8.28852588e-03, -1.44168402e-02],\n",
       "       [-2.13571212e-03, -1.00863093e-02],\n",
       "       [ 9.77803121e-04, -7.87170112e-03],\n",
       "       [-1.99425085e-03, -7.92114787e-04],\n",
       "       [-1.65014667e-02,  3.18295707e-03],\n",
       "       [-3.68487958e-03, -1.59350514e-02],\n",
       "       [-8.25106991e-03,  4.70327818e-03],\n",
       "       [-1.67103649e-02, -1.45239229e-02],\n",
       "       [-3.53985742e-06, -7.88448817e-03],\n",
       "       [-8.88307945e-03,  5.99215338e-03]])"
      ]
     },
     "execution_count": 139,
     "metadata": {},
     "output_type": "execute_result"
    }
   ],
   "source": [
    "new_X"
   ]
  },
  {
   "cell_type": "code",
   "execution_count": 133,
   "metadata": {},
   "outputs": [
    {
     "data": {
      "image/png": "[encoded data removed]",
      "text/plain": [
       "<Figure size 936x504 with 1 Axes>"
      ]
     },
     "metadata": {
      "needs_background": "light"
     },
     "output_type": "display_data"
    }
   ],
   "source": [
    "import matplotlib.pyplot as plt\n",
    "plt.figure(figsize=(13,7))\n",
    "plt.scatter(new_X[:,0],new_X[:,1],linewidths=10,color='blue')\n",
    "plt.xlabel(\"PC1\",size=15)\n",
    "plt.ylabel(\"PC2\",size=15)\n",
    "plt.title(\"Word Embedding Space\",size=20)\n",
    "vocab=list(model.wv.vocab)\n",
    "for i, word in enumerate(vocab):\n",
    "    plt.annotate(word,xy=(new_X[i,0],new_X[i,1]))"
   ]
  },
  {
   "cell_type": "markdown",
   "metadata": {},
   "source": [
    "tf_idf = TfidfVectorizer()\n",
    "X_train_tfidf = tf_idf.fit_transform(df_train['cleaned_message'][0:2000])"
   ]
  },
  {
   "cell_type": "code",
   "execution_count": 19,
   "metadata": {},
   "outputs": [
    {
     "data": {
      "text/plain": [
       "(2000, 50919)"
      ]
     },
     "execution_count": 19,
     "metadata": {},
     "output_type": "execute_result"
    }
   ],
   "source": [
    "X_train_tfidf.toarray().shape"
   ]
  },
  {
   "cell_type": "code",
   "execution_count": 20,
   "metadata": {},
   "outputs": [],
   "source": [
    "clf = MultinomialNB().fit(X_train_tfidf, y_train[0:2000])"
   ]
  },
  {
   "cell_type": "code",
   "execution_count": 21,
   "metadata": {},
   "outputs": [],
   "source": [
    "X_test_vectors = tf_idf.transform(X_test)"
   ]
  },
  {
   "cell_type": "code",
   "execution_count": 22,
   "metadata": {},
   "outputs": [],
   "source": [
    "y_pred = clf.predict(X_test_vectors)"
   ]
  },
  {
   "cell_type": "code",
   "execution_count": 23,
   "metadata": {},
   "outputs": [],
   "source": [
    "from sklearn.metrics import classification_report"
   ]
  },
  {
   "cell_type": "code",
   "execution_count": 24,
   "metadata": {},
   "outputs": [
    {
     "name": "stdout",
     "output_type": "stream",
     "text": [
      "              precision    recall  f1-score   support\n",
      "\n",
      "           0       0.18      0.84      0.30        69\n",
      "           1       0.20      0.92      0.33        84\n",
      "           2       0.61      0.58      0.59       414\n",
      "           3       0.44      0.78      0.57       223\n",
      "           4       0.64      0.69      0.66       360\n",
      "           5       0.38      0.91      0.53       163\n",
      "           6       0.55      0.91      0.69       235\n",
      "           7       0.79      0.77      0.78       405\n",
      "           8       0.73      0.87      0.79       331\n",
      "           9       0.66      0.94      0.77       277\n",
      "          10       0.90      0.90      0.90       400\n",
      "          11       0.88      0.65      0.75       533\n",
      "          12       0.34      0.68      0.45       197\n",
      "          13       0.23      0.93      0.37        99\n",
      "          14       0.34      0.96      0.50       137\n",
      "          15       1.00      0.13      0.24      2943\n",
      "          16       0.69      0.65      0.67       387\n",
      "          17       0.59      0.92      0.72       241\n",
      "          18       0.11      1.00      0.19        33\n",
      "          19       0.00      1.00      0.01         1\n",
      "\n",
      "    accuracy                           0.53      7532\n",
      "   macro avg       0.51      0.80      0.54      7532\n",
      "weighted avg       0.78      0.53      0.50      7532\n",
      "\n"
     ]
    }
   ],
   "source": [
    "print(classification_report(y_pred, y_test))"
   ]
  },
  {
   "cell_type": "code",
   "execution_count": 25,
   "metadata": {},
   "outputs": [],
   "source": [
    "from sklearn import decomposition\n",
    "pca = decomposition.PCA()"
   ]
  },
  {
   "cell_type": "code",
   "execution_count": 35,
   "metadata": {},
   "outputs": [],
   "source": [
    "pca.n_components = 5\n",
    "pca_data = pca.fit_transform(X_train_tfidf.toarray())"
   ]
  },
  {
   "cell_type": "code",
   "execution_count": 36,
   "metadata": {},
   "outputs": [],
   "source": [
    "# vectorizer = CountVectorizer(ngram_range=(2,2))\n",
    "\n",
    "# file=open('data/test.ft.txt','r',encoding=\"utf-8\")\n",
    "\n",
    "# g=file.read()\n",
    "\n",
    "# sentences=sent_tokenize(g)\n",
    "# # \n",
    "# wn=WordNetLemmatizer()"
   ]
  },
  {
   "cell_type": "code",
   "execution_count": 37,
   "metadata": {},
   "outputs": [
    {
     "data": {
      "text/plain": [
       "array([[ 0.01630973,  0.00962476,  0.01366958,  0.05842661, -0.02447871],\n",
       "       [-0.10185021,  0.03445126,  0.00330599, -0.00098787, -0.05460964],\n",
       "       [ 0.14284151,  0.04772588,  0.09522157,  0.06351282, -0.03664118],\n",
       "       ...,\n",
       "       [ 0.02630876,  0.01748979,  0.0348674 ,  0.03161009, -0.01123154],\n",
       "       [ 0.12509368,  0.02083381, -0.0438796 , -0.08120415,  0.0263171 ],\n",
       "       [ 0.12223218, -0.16387152, -0.10882049, -0.04351209, -0.0858884 ]])"
      ]
     },
     "execution_count": 37,
     "metadata": {},
     "output_type": "execute_result"
    }
   ],
   "source": [
    "pca_data"
   ]
  },
  {
   "cell_type": "code",
   "execution_count": 45,
   "metadata": {},
   "outputs": [],
   "source": [
    "pca_df = pd.DataFrame(pca_data, columns = ['principal component 1', 'principal component 2','principal component 3','principal component 4','principal component 5'])"
   ]
  },
  {
   "cell_type": "code",
   "execution_count": 52,
   "metadata": {},
   "outputs": [],
   "source": [
    "pca_df['target'] = y_train[0:2000]"
   ]
  },
  {
   "cell_type": "code",
   "execution_count": 53,
   "metadata": {},
   "outputs": [
    {
     "data": {
      "image/png": "[encoded data removed]",
      "text/plain": [
       "<Figure size 576x576 with 1 Axes>"
      ]
     },
     "metadata": {
      "needs_background": "light"
     },
     "output_type": "display_data"
    }
   ],
   "source": [
    "fig = plt.figure(figsize = (8,8))\n",
    "ax = fig.add_subplot(1,1,1) \n",
    "ax.set_xlabel('Principal Component 1', fontsize = 15)\n",
    "ax.set_ylabel('Principal Component 2', fontsize = 15)\n",
    "ax.set_title('2 component PCA', fontsize = 20)\n",
    "colors = ['r', 'g', 'b']\n",
    "targets = list(set(y_train[0:2000]))\n",
    "for target, color in zip(targets,colors):\n",
    "    indicesToKeep = pca_df['target'] == target\n",
    "    ax.scatter(pca_df.loc[indicesToKeep, 'principal component 1']\n",
    "               , pca_df.loc[indicesToKeep, 'principal component 2']\n",
    "               , c = color\n",
    "               , s = 50)\n",
    "ax.legend(targets)\n",
    "ax.grid()"
   ]
  },
  {
   "cell_type": "code",
   "execution_count": null,
   "metadata": {},
   "outputs": [],
   "source": [
    "\n",
    "# def preprocess_text(text):\n",
    "#     tokens = word_tokenize(text)\n",
    "#     stop_words=stopwords.words('english')\n",
    "#     stop_words.extend(['__label__1','__label__2'])\n",
    "#     tokens=[token.lower() for token in tokens if token not in stop_words]\n",
    "#     tokens=[re.sub(r'[^A-Za-z]+','',token) for token in tokens]\n",
    "#     tokens=[wn.lemmatize(token) for token in tokens]\n",
    "#     return tokens  \n",
    "\n",
    "\n",
    "# text_tokens=[]\n",
    "# for item in sentences[0:1000]:\n",
    "#     tokens = preprocess_text(item)\n",
    "#     temp = \" \".join(tokens)\n",
    "#     text_tokens.append(temp)    \n",
    "\n",
    "\n",
    "\n",
    "# word_dist = FreqDist()\n",
    "# for s in text_tokens:\n",
    "#     word_dist.update(s.split())\n",
    "\n",
    "# ########################################################################################\n",
    "\n",
    "\n",
    "\n",
    "# text=''\n",
    "# for sent in text_tokens:\n",
    "#     text=text+sent\n",
    "\n",
    "# tokens=word_tokenize(text)    \n",
    "# bigrams = ngrams(tokens,2)\n",
    "\n",
    "# bigram_dict=dict(Counter(bigrams))\n",
    "\n",
    "# final_bigram_dict={}\n",
    "# for key,value in bigram_dict.items():\n",
    "#     new_key=\" \".join(key)\n",
    "#     final_bigram_dict[new_key]=value\n",
    "\n",
    "# unigram_index= CountVectorizer(ngram_range=(1,1))\n",
    "# unigram_index.fit_transform(text_tokens)\n",
    "# unigram_dist = unigram_index.vocabulary_\n",
    "\n",
    "\n",
    "# def pmi(word1, word2 ,unigram_freq, bigram_freq):\n",
    "#     #print(word1,word2)\n",
    "#     prob_word1 = unigram_freq[word1]/float(sum(unigram_freq.values()))\n",
    "#     #print(prob_word1)\n",
    "#     prob_word2 = unigram_freq[word2]/float(sum(unigram_freq.values()))\n",
    "#     #print(prob_word2)\n",
    "#     prob_word1_word2 = bigram_freq[\" \".join([word1,word2])]/float(sum(bigram_freq.values()))\n",
    "#     #print(prob_word1_word2)\n",
    "#     ratio = prob_word1_word2/float(prob_word1*prob_word2)\n",
    "#     #print(word1,word2,prob_word1,prob_word2)\n",
    "#     if ratio==0:\n",
    "#         return 0\n",
    "#     else:\n",
    "#         return math.log(ratio,2)\n",
    "\n",
    "# pmi_dict={}\n",
    "# for key in final_bigram_dict.keys():\n",
    "#     first_word = key.split()[0]\n",
    "#     second_word = key.split()[1]\n",
    "#     if (first_word in word_dist.keys()) and (second_word in word_dist.keys()):\n",
    "#         pmi_dict[key]=pmi(key.split()[0],key.split()[1],word_dist,final_bigram_dict)\n",
    "#     else:\n",
    "#         pmi_dict[key]=0\n",
    "\n",
    "\n",
    "# start = '\\s'\n",
    "# end= '\\e'\n",
    "\n",
    "    \n",
    "# context_word_pairs={}\n",
    "# for story_id in range(0,len(text_tokens)):\n",
    "#     text_tokens[story_id] = start +' '+ text_tokens[story_id] +' '+ end\n",
    "#     list_of_words=text_tokens[story_id].split()\n",
    "#     context_word_pairs[story_id] = {}\n",
    "#     for word_index in range(1,len(list_of_words)-1):\n",
    "#         context_word_pairs[story_id][list_of_words[word_index]]=[list_of_words[word_index-1],list_of_words[word_index+1]]\n",
    "# #    \n",
    "# #tokens=[]\n",
    "# #for s in text_tokens:\n",
    "# #    tokens.extend(word_tokenize(s))\n",
    "# #\n",
    "# #unique_words=set(tokens)\n",
    "# #\n",
    "# list_cw_pairs=[]\n",
    "# for i in range(0,len(context_word_pairs)):\n",
    "#     list_cw_pairs.append(context_word_pairs[i])\n",
    "# #\n",
    "# #for word in unique_words:\n",
    "# #    print(context_word_pairs.get(word))\n",
    "    \n",
    "\n",
    "\n",
    "# def foo(r, d):\n",
    "#     for k in d:\n",
    "#         r[k].append(d[k])\n",
    "    \n",
    "# d = reduce(lambda r, d: foo(r, d) or r, list_cw_pairs, defaultdict(list))    \n",
    "    \n",
    "    \n",
    "# final_dict={}\n",
    "# for k,v in d.items():\n",
    "#     tmp_list_before=[]\n",
    "#     tmp_list_after=[]\n",
    "#     for x in range(0,len(v)):\n",
    "#         tmp_list_before.append(v[x][0])\n",
    "#         tmp_list_after.append(v[x][1])\n",
    "#     final_dict[k]=[tmp_list_before,tmp_list_after]\n",
    "    \n",
    "# def create_vectors(word,context):\n",
    "#     #print(word)\n",
    "#     #print(context)\n",
    "#     vector = np.zeros((len(word_dist.keys()),)) \n",
    "#     for x in range(0,len(context[0])):\n",
    "#         temp_word_1 = context[0][x]+\" \" + word\n",
    "#         if temp_word_1 in pmi_dict.keys():\n",
    "#             vector[word_dist[context[0][x]]] = pmi_dict[temp_word_1]\n",
    "#     for y in range(0,len(context[1])):\n",
    "#         temp_word_2 = word + \" \" + context[1][y]\n",
    "#         if temp_word_2 in pmi_dict.keys():\n",
    "#             vector[word_dist[context[1][y]]] = pmi_dict[temp_word_2]\n",
    "#     return vector\n",
    "\n",
    "# word_vectors=[]\n",
    "# word_list=[]\n",
    "# for w,v in final_dict.items():\n",
    "#     if w!=\"\":\n",
    "#         word_vectors.append(create_vectors(w,v))\n",
    "#         word_list.append(w)\n",
    " \n",
    " \n",
    "        \n",
    "        \n",
    "\n",
    "\n",
    "# pca=PCA(n_components=300)\n",
    "\n",
    "# principalComponents=pca.fit_transform(word_vectors)\n",
    "\n",
    "# '''\n",
    "# new_pca = PCA(n_components = 2)\n",
    "# n=new_pca.fit_transform(principalComponents)\n",
    "# plt.scatter(n[:,0],n[:,1])\n",
    "\n",
    "# for i,word in enumerate(word_list[0:300]):\n",
    "#     plt.annotate(word,xy=(n[i,0],n[i,1]))\n",
    "# plt.show()\n",
    "\n",
    "# '''\n",
    "# labels = []\n",
    "# tokens = []\n",
    "\n",
    "# for word in range(0,len(word_list)):\n",
    "#     tokens.append(word_vectors[word])\n",
    "#     labels.append(word_list[word])\n",
    "\n",
    "# tsne_model = TSNE(perplexity=40, n_components=2, init='pca', n_iter=2500, random_state=23)\n",
    "# new_values = tsne_model.fit_transform(tokens)\n",
    "\n",
    "# x = []\n",
    "# y = []\n",
    "# for value in new_values:\n",
    "#     x.append(value[0])\n",
    "#     y.append(value[1])\n",
    "    \n",
    "# plt.figure(figsize=(16, 16)) \n",
    "# for i in range(len(x)):\n",
    "#     plt.scatter(x[i],y[i])\n",
    "#     plt.annotate(labels[i],\n",
    "#                  xy=(x[i], y[i]),\n",
    "#                  xytext=(5, 2),\n",
    "#                  textcoords='offset points',\n",
    "#                  ha='right',\n",
    "#                  va='bottom')\n",
    "# plt.show()\n",
    "# '''\n",
    "# from annoy import AnnoyIndex\n",
    "\n",
    "# num=300\n",
    "# t = AnnoyIndex(num)\n",
    "\n",
    "# for i in range(0,len(principalComponents)):\n",
    "#     t.add_item(i,principalComponents[i])\n",
    "    \n",
    "# t.build(10)\n",
    "    \n",
    "# print(word_list[0])\n",
    "# #print(t.get_nns_by_item(0,5))\n",
    "# for i in t.get_nns_by_item(0,5):\n",
    "#     print(word_list[i])\n",
    "# #print(t.get_distance(1,4))\n",
    "\n",
    "# #print(t.get_distance(18,24))\n"
   ]
  },
  {
   "cell_type": "code",
   "execution_count": null,
   "metadata": {},
   "outputs": [],
   "source": []
  },
  {
   "cell_type": "code",
   "execution_count": null,
   "metadata": {},
   "outputs": [],
   "source": []
  },
  {
   "cell_type": "code",
   "execution_count": null,
   "metadata": {},
   "outputs": [],
   "source": []
  },
  {
   "cell_type": "code",
   "execution_count": null,
   "metadata": {},
   "outputs": [],
   "source": []
  },
  {
   "cell_type": "code",
   "execution_count": null,
   "metadata": {},
   "outputs": [],
   "source": []
  },
  {
   "cell_type": "code",
   "execution_count": null,
   "metadata": {},
   "outputs": [],
   "source": []
  }
 ],
 "metadata": {
  "kernelspec": {
   "display_name": "Python 3",
   "language": "python",
   "name": "python3"
  },
  "language_info": {
   "codemirror_mode": {
    "name": "ipython",
    "version": 3
   },
   "file_extension": ".py",
   "mimetype": "text/x-python",
   "name": "python",
   "nbconvert_exporter": "python",
   "pygments_lexer": "ipython3",
   "version": "3.6.8"
  }
 },
 "nbformat": 4,
 "nbformat_minor": 2
}
