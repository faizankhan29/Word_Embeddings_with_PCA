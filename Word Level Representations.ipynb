{
 "cells": [
  {
   "cell_type": "markdown",
   "metadata": {},
   "source": [
    "## Idea of the Repository: (Work in Progress)\n",
    "\n",
    "The idea of the blog/repository is to:\n",
    "\n",
    "1) Explore PCA for text visualizations -- words, sentences, documents.\n",
    "\n",
    "2) Understand how using PCA helps improve text classification.\n",
    "\n",
    "3) Explore the Spotify Annoy library and test the text classification improvement using the same.\n",
    "\n",
    "4) (Optional) Explore the TSNE library for visualization and insights -- words, sentences, documents, text classification outputs."
   ]
  },
  {
   "cell_type": "markdown",
   "metadata": {},
   "source": [
    "## Importing Required Libraries"
   ]
  },
  {
   "cell_type": "code",
   "execution_count": 1,
   "metadata": {},
   "outputs": [],
   "source": [
    "import os\n",
    "import re\n",
    "import math\n",
    "import nltk\n",
    "import numpy as np\n",
    "import pandas as pd\n",
    "import matplotlib.pyplot as plt\n",
    "from nltk import FreqDist\n",
    "from nltk.util import ngrams\n",
    "from functools import reduce\n",
    "from collections import Counter\n",
    "from collections import defaultdict\n",
    "from nltk.corpus import stopwords\n",
    "from nltk.stem import WordNetLemmatizer\n",
    "from nltk import word_tokenize, sent_tokenize\n",
    "from sklearn.manifold import TSNE\n",
    "from sklearn.decomposition import PCA\n",
    "from sklearn.datasets import fetch_20newsgroups\n",
    "from sklearn.feature_extraction.text import CountVectorizer, TfidfVectorizer\n",
    "from sklearn.naive_bayes import MultinomialNB"
   ]
  },
  {
   "cell_type": "markdown",
   "metadata": {},
   "source": [
    "## Exploring the Data"
   ]
  },
  {
   "cell_type": "code",
   "execution_count": 2,
   "metadata": {},
   "outputs": [],
   "source": [
    "train = fetch_20newsgroups(subset=\"train\") \n",
    "test = fetch_20newsgroups(subset=\"test\")"
   ]
  },
  {
   "cell_type": "code",
   "execution_count": 3,
   "metadata": {},
   "outputs": [
    {
     "data": {
      "text/plain": [
       "['alt.atheism',\n",
       " 'comp.graphics',\n",
       " 'comp.os.ms-windows.misc',\n",
       " 'comp.sys.ibm.pc.hardware',\n",
       " 'comp.sys.mac.hardware',\n",
       " 'comp.windows.x',\n",
       " 'misc.forsale',\n",
       " 'rec.autos',\n",
       " 'rec.motorcycles',\n",
       " 'rec.sport.baseball',\n",
       " 'rec.sport.hockey',\n",
       " 'sci.crypt',\n",
       " 'sci.electronics',\n",
       " 'sci.med',\n",
       " 'sci.space',\n",
       " 'soc.religion.christian',\n",
       " 'talk.politics.guns',\n",
       " 'talk.politics.mideast',\n",
       " 'talk.politics.misc',\n",
       " 'talk.religion.misc']"
      ]
     },
     "execution_count": 3,
     "metadata": {},
     "output_type": "execute_result"
    }
   ],
   "source": [
    "train.target_names"
   ]
  },
  {
   "cell_type": "code",
   "execution_count": 4,
   "metadata": {},
   "outputs": [],
   "source": [
    "X_train = train[\"data\"]\n",
    "X_test = test[\"data\"]\n",
    "y_train = train[\"target\"] \n",
    "y_test = test[\"target\"]"
   ]
  },
  {
   "cell_type": "code",
   "execution_count": 5,
   "metadata": {},
   "outputs": [],
   "source": [
    "df_train = pd.DataFrame(X_train, columns=['message'])"
   ]
  },
  {
   "cell_type": "code",
   "execution_count": 6,
   "metadata": {},
   "outputs": [],
   "source": [
    "df_train['target'] = y_train"
   ]
  },
  {
   "cell_type": "code",
   "execution_count": 7,
   "metadata": {},
   "outputs": [
    {
     "data": {
      "text/html": [
       "<div>\n",
       "<style scoped>\n",
       "    .dataframe tbody tr th:only-of-type {\n",
       "        vertical-align: middle;\n",
       "    }\n",
       "\n",
       "    .dataframe tbody tr th {\n",
       "        vertical-align: top;\n",
       "    }\n",
       "\n",
       "    .dataframe thead th {\n",
       "        text-align: right;\n",
       "    }\n",
       "</style>\n",
       "<table border=\"1\" class=\"dataframe\">\n",
       "  <thead>\n",
       "    <tr style=\"text-align: right;\">\n",
       "      <th></th>\n",
       "      <th>message</th>\n",
       "      <th>target</th>\n",
       "    </tr>\n",
       "  </thead>\n",
       "  <tbody>\n",
       "    <tr>\n",
       "      <th>0</th>\n",
       "      <td>From: lerxst@wam.umd.edu (where's my thing)\\nS...</td>\n",
       "      <td>7</td>\n",
       "    </tr>\n",
       "    <tr>\n",
       "      <th>1</th>\n",
       "      <td>From: guykuo@carson.u.washington.edu (Guy Kuo)...</td>\n",
       "      <td>4</td>\n",
       "    </tr>\n",
       "    <tr>\n",
       "      <th>2</th>\n",
       "      <td>From: twillis@ec.ecn.purdue.edu (Thomas E Will...</td>\n",
       "      <td>4</td>\n",
       "    </tr>\n",
       "    <tr>\n",
       "      <th>3</th>\n",
       "      <td>From: jgreen@amber (Joe Green)\\nSubject: Re: W...</td>\n",
       "      <td>1</td>\n",
       "    </tr>\n",
       "    <tr>\n",
       "      <th>4</th>\n",
       "      <td>From: jcm@head-cfa.harvard.edu (Jonathan McDow...</td>\n",
       "      <td>14</td>\n",
       "    </tr>\n",
       "  </tbody>\n",
       "</table>\n",
       "</div>"
      ],
      "text/plain": [
       "                                             message  target\n",
       "0  From: lerxst@wam.umd.edu (where's my thing)\\nS...       7\n",
       "1  From: guykuo@carson.u.washington.edu (Guy Kuo)...       4\n",
       "2  From: twillis@ec.ecn.purdue.edu (Thomas E Will...       4\n",
       "3  From: jgreen@amber (Joe Green)\\nSubject: Re: W...       1\n",
       "4  From: jcm@head-cfa.harvard.edu (Jonathan McDow...      14"
      ]
     },
     "execution_count": 7,
     "metadata": {},
     "output_type": "execute_result"
    }
   ],
   "source": [
    "df_train.head()"
   ]
  },
  {
   "cell_type": "code",
   "execution_count": 8,
   "metadata": {},
   "outputs": [],
   "source": [
    "df_test = pd.DataFrame(X_test, columns = ['message'])\n",
    "df_test['target'] = y_test"
   ]
  },
  {
   "cell_type": "code",
   "execution_count": 9,
   "metadata": {},
   "outputs": [],
   "source": [
    "y_train = df_train['target']"
   ]
  },
  {
   "cell_type": "code",
   "execution_count": 10,
   "metadata": {},
   "outputs": [
    {
     "data": {
      "text/plain": [
       "\"From: guykuo@carson.u.washington.edu (Guy Kuo)\\nSubject: SI Clock Poll - Final Call\\nSummary: Final call for SI clock reports\\nKeywords: SI,acceleration,clock,upgrade\\nArticle-I.D.: shelley.1qvfo9INNc3s\\nOrganization: University of Washington\\nLines: 11\\nNNTP-Posting-Host: carson.u.washington.edu\\n\\nA fair number of brave souls who upgraded their SI clock oscillator have\\nshared their experiences for this poll. Please send a brief message detailing\\nyour experiences with the procedure. Top speed attained, CPU rated speed,\\nadd on cards and adapters, heat sinks, hour of usage per day, floppy disk\\nfunctionality with 800 and 1.4 m floppies are especially requested.\\n\\nI will be summarizing in the next two days, so please add to the network\\nknowledge base if you have done the clock upgrade and haven't answered this\\npoll. Thanks.\\n\\nGuy Kuo <guykuo@u.washington.edu>\\n\""
      ]
     },
     "execution_count": 10,
     "metadata": {},
     "output_type": "execute_result"
    }
   ],
   "source": [
    "df_train['message'].iloc[1]"
   ]
  },
  {
   "cell_type": "code",
   "execution_count": 11,
   "metadata": {},
   "outputs": [],
   "source": [
    "def clean_text(text):\n",
    "    text = \" \".join(text.split()[5:])\n",
    "    text = text.lower()\n",
    "    text = re.sub(r'(@[A-Za-z0-9]+)|([^0-9A-Za-z \\t])',\" \", text)\n",
    "    return text"
   ]
  },
  {
   "cell_type": "code",
   "execution_count": 12,
   "metadata": {},
   "outputs": [],
   "source": [
    "df_train['cleaned_message'] = df_train['message'].apply(lambda x: clean_text(x))"
   ]
  },
  {
   "cell_type": "code",
   "execution_count": 13,
   "metadata": {},
   "outputs": [
    {
     "data": {
      "text/html": [
       "<div>\n",
       "<style scoped>\n",
       "    .dataframe tbody tr th:only-of-type {\n",
       "        vertical-align: middle;\n",
       "    }\n",
       "\n",
       "    .dataframe tbody tr th {\n",
       "        vertical-align: top;\n",
       "    }\n",
       "\n",
       "    .dataframe thead th {\n",
       "        text-align: right;\n",
       "    }\n",
       "</style>\n",
       "<table border=\"1\" class=\"dataframe\">\n",
       "  <thead>\n",
       "    <tr style=\"text-align: right;\">\n",
       "      <th></th>\n",
       "      <th>message</th>\n",
       "      <th>target</th>\n",
       "      <th>cleaned_message</th>\n",
       "    </tr>\n",
       "  </thead>\n",
       "  <tbody>\n",
       "    <tr>\n",
       "      <th>0</th>\n",
       "      <td>From: lerxst@wam.umd.edu (where's my thing)\\nS...</td>\n",
       "      <td>7</td>\n",
       "      <td>subject  what car is this   nntp posting host ...</td>\n",
       "    </tr>\n",
       "    <tr>\n",
       "      <th>1</th>\n",
       "      <td>From: guykuo@carson.u.washington.edu (Guy Kuo)...</td>\n",
       "      <td>4</td>\n",
       "      <td>si clock poll   final call summary  final call...</td>\n",
       "    </tr>\n",
       "    <tr>\n",
       "      <th>2</th>\n",
       "      <td>From: twillis@ec.ecn.purdue.edu (Thomas E Will...</td>\n",
       "      <td>4</td>\n",
       "      <td>subject  pb questions    organization  purdue ...</td>\n",
       "    </tr>\n",
       "    <tr>\n",
       "      <th>3</th>\n",
       "      <td>From: jgreen@amber (Joe Green)\\nSubject: Re: W...</td>\n",
       "      <td>1</td>\n",
       "      <td>re  weitek p9000   organization  harris comput...</td>\n",
       "    </tr>\n",
       "    <tr>\n",
       "      <th>4</th>\n",
       "      <td>From: jcm@head-cfa.harvard.edu (Jonathan McDow...</td>\n",
       "      <td>14</td>\n",
       "      <td>re  shuttle launch question organization  smit...</td>\n",
       "    </tr>\n",
       "  </tbody>\n",
       "</table>\n",
       "</div>"
      ],
      "text/plain": [
       "                                             message  target  \\\n",
       "0  From: lerxst@wam.umd.edu (where's my thing)\\nS...       7   \n",
       "1  From: guykuo@carson.u.washington.edu (Guy Kuo)...       4   \n",
       "2  From: twillis@ec.ecn.purdue.edu (Thomas E Will...       4   \n",
       "3  From: jgreen@amber (Joe Green)\\nSubject: Re: W...       1   \n",
       "4  From: jcm@head-cfa.harvard.edu (Jonathan McDow...      14   \n",
       "\n",
       "                                     cleaned_message  \n",
       "0  subject  what car is this   nntp posting host ...  \n",
       "1  si clock poll   final call summary  final call...  \n",
       "2  subject  pb questions    organization  purdue ...  \n",
       "3  re  weitek p9000   organization  harris comput...  \n",
       "4  re  shuttle launch question organization  smit...  "
      ]
     },
     "execution_count": 13,
     "metadata": {},
     "output_type": "execute_result"
    }
   ],
   "source": [
    "df_train.head()"
   ]
  },
  {
   "cell_type": "code",
   "execution_count": 14,
   "metadata": {},
   "outputs": [],
   "source": [
    "df_train['len'] = df_train['cleaned_message'].apply(lambda x:len(x))"
   ]
  },
  {
   "cell_type": "code",
   "execution_count": 15,
   "metadata": {},
   "outputs": [
    {
     "data": {
      "text/plain": [
       "['From: jcm@head-cfa.harvard.edu (Jonathan McDowell)',\n",
       " 'Subject: Re: Shuttle Launch Question',\n",
       " 'Organization: Smithsonian Astrophysical Observatory, Cambridge, MA,  USA',\n",
       " 'Distribution: sci',\n",
       " 'Lines: 23',\n",
       " '',\n",
       " 'From article <C5owCB.n3p@world.std.com>, by tombaker@world.std.com (Tom A Baker):',\n",
       " '>>In article <C5JLwx.4H9.1@cs.cmu.edu>, ETRAT@ttacs1.ttu.edu (Pack Rat) writes...',\n",
       " '>>>\"Clear caution & warning memory.  Verify no unexpected',\n",
       " '>>>errors. ...\".  I am wondering what an \"expected error\" might',\n",
       " '>>>be.  Sorry if this is a really dumb question, but',\n",
       " '> ',\n",
       " '> Parity errors in memory or previously known conditions that were waivered.',\n",
       " '>    \"Yes that is an error, but we already knew about it\"',\n",
       " \"> I'd be curious as to what the real meaning of the quote is.\",\n",
       " '> ',\n",
       " '> tom',\n",
       " '',\n",
       " '',\n",
       " \"My understanding is that the 'expected errors' are basically\",\n",
       " 'known bugs in the warning system software - things are checked',\n",
       " \"that don't have the right values in yet because they aren't\",\n",
       " 'set till after launch, and suchlike. Rather than fix the code',\n",
       " 'and possibly introduce new bugs, they just tell the crew',\n",
       " \"'ok, if you see a warning no. 213 before liftoff, ignore it'.\",\n",
       " '',\n",
       " ' - Jonathan',\n",
       " '',\n",
       " '',\n",
       " '']"
      ]
     },
     "execution_count": 15,
     "metadata": {},
     "output_type": "execute_result"
    }
   ],
   "source": [
    "df_train['message'].iloc[4].split('\\n')"
   ]
  },
  {
   "cell_type": "code",
   "execution_count": 16,
   "metadata": {},
   "outputs": [],
   "source": [
    "from gensim.models import Word2Vec\n",
    "tokens = [nltk.word_tokenize(words) for words in df_train['cleaned_message'][0:2]]\n",
    "model = Word2Vec(tokens,size=50,sg=1,min_count=1)"
   ]
  },
  {
   "cell_type": "code",
   "execution_count": 41,
   "metadata": {},
   "outputs": [
    {
     "ename": "AttributeError",
     "evalue": "'Doc2Vec' object has no attribute 'infer_vectors'",
     "output_type": "error",
     "traceback": [
      "\u001b[0;31m---------------------------------------------------------------------------\u001b[0m",
      "\u001b[0;31mAttributeError\u001b[0m                            Traceback (most recent call last)",
      "\u001b[0;32m<ipython-input-41-2ca44a1d67d0>\u001b[0m in \u001b[0;36m<module>\u001b[0;34m\u001b[0m\n\u001b[1;32m     17\u001b[0m     \u001b[0;32mreturn\u001b[0m \u001b[0mvecs\u001b[0m\u001b[0;34m\u001b[0m\u001b[0;34m\u001b[0m\u001b[0m\n\u001b[1;32m     18\u001b[0m \u001b[0;34m\u001b[0m\u001b[0m\n\u001b[0;32m---> 19\u001b[0;31m \u001b[0mtrain_vecs_dbow\u001b[0m \u001b[0;34m=\u001b[0m \u001b[0mget_vectors\u001b[0m\u001b[0;34m(\u001b[0m\u001b[0mmodel_ug_dbow\u001b[0m\u001b[0;34m,\u001b[0m \u001b[0mdocuments\u001b[0m\u001b[0;34m,\u001b[0m \u001b[0;36m100\u001b[0m\u001b[0;34m)\u001b[0m\u001b[0;34m\u001b[0m\u001b[0;34m\u001b[0m\u001b[0m\n\u001b[0m\u001b[1;32m     20\u001b[0m \u001b[0mvalidation_vecs_dbow\u001b[0m \u001b[0;34m=\u001b[0m \u001b[0mget_vectors\u001b[0m\u001b[0;34m(\u001b[0m\u001b[0mmodel_ug_dbow\u001b[0m\u001b[0;34m,\u001b[0m \u001b[0mdf_train\u001b[0m\u001b[0;34m[\u001b[0m\u001b[0;34m'cleaned_message'\u001b[0m\u001b[0;34m]\u001b[0m\u001b[0;34m[\u001b[0m\u001b[0;36m300\u001b[0m\u001b[0;34m:\u001b[0m\u001b[0;36m400\u001b[0m\u001b[0;34m]\u001b[0m\u001b[0;34m,\u001b[0m \u001b[0;36m100\u001b[0m\u001b[0;34m)\u001b[0m\u001b[0;34m\u001b[0m\u001b[0;34m\u001b[0m\u001b[0m\n",
      "\u001b[0;32m<ipython-input-41-2ca44a1d67d0>\u001b[0m in \u001b[0;36mget_vectors\u001b[0;34m(model, corpus, size)\u001b[0m\n\u001b[1;32m     14\u001b[0m \u001b[0;34m\u001b[0m\u001b[0m\n\u001b[1;32m     15\u001b[0m \u001b[0;32mdef\u001b[0m \u001b[0mget_vectors\u001b[0m\u001b[0;34m(\u001b[0m\u001b[0mmodel\u001b[0m\u001b[0;34m,\u001b[0m \u001b[0mcorpus\u001b[0m\u001b[0;34m,\u001b[0m \u001b[0msize\u001b[0m\u001b[0;34m)\u001b[0m\u001b[0;34m:\u001b[0m\u001b[0;34m\u001b[0m\u001b[0;34m\u001b[0m\u001b[0m\n\u001b[0;32m---> 16\u001b[0;31m     \u001b[0mvecs\u001b[0m \u001b[0;34m=\u001b[0m \u001b[0mmodel\u001b[0m\u001b[0;34m.\u001b[0m\u001b[0minfer_vectors\u001b[0m\u001b[0;34m(\u001b[0m\u001b[0mcorpus\u001b[0m\u001b[0;34m)\u001b[0m\u001b[0;34m\u001b[0m\u001b[0;34m\u001b[0m\u001b[0m\n\u001b[0m\u001b[1;32m     17\u001b[0m     \u001b[0;32mreturn\u001b[0m \u001b[0mvecs\u001b[0m\u001b[0;34m\u001b[0m\u001b[0;34m\u001b[0m\u001b[0m\n\u001b[1;32m     18\u001b[0m \u001b[0;34m\u001b[0m\u001b[0m\n",
      "\u001b[0;31mAttributeError\u001b[0m: 'Doc2Vec' object has no attribute 'infer_vectors'"
     ]
    }
   ],
   "source": [
    "from sklearn import utils\n",
    "from tqdm import tqdm\n",
    "from gensim.models.doc2vec import Doc2Vec, TaggedDocument\n",
    "#cores = multiprocessing.cpu_count()\n",
    "\n",
    "documents = [TaggedDocument(doc, [i]) for i, doc in enumerate(df_train['cleaned_message'][0:200])]\n",
    "model_ug_dbow = Doc2Vec(dm=0, size=100, negative=5, min_count=2, alpha=0.065, min_alpha=0.065)\n",
    "model_ug_dbow.build_vocab(documents)\n",
    "\n",
    "for epoch in range(30):\n",
    "    model_ug_dbow.train(utils.shuffle(documents), total_examples=len(documents), epochs=1)\n",
    "    model_ug_dbow.alpha -= 0.002\n",
    "    model_ug_dbow.min_alpha = model_ug_dbow.alpha\n",
    "    \n",
    "def get_vectors(model, corpus, size):\n",
    "    vecs = model.infer_vectors(corpus)\n",
    "    return vecs\n",
    "  \n",
    "train_vecs_dbow = get_vectors(model_ug_dbow, documents, 100)\n",
    "validation_vecs_dbow = get_vectors(model_ug_dbow, df_train['cleaned_message'][300:400], 100)"
   ]
  },
  {
   "cell_type": "code",
   "execution_count": 18,
   "metadata": {},
   "outputs": [
    {
     "name": "stdout",
     "output_type": "stream",
     "text": [
      "['subject', 'what', 'car', 'is', 'this', 'nntp', 'posting', 'host', 'rac3', 'wam', 'umd', 'edu', 'organization', 'university', 'of', 'maryland', 'college', 'park', 'lines', '15', 'i', 'was', 'wondering', 'if', 'anyone', 'out', 'there', 'could', 'enlighten', 'me', 'on', 'this', 'car', 'i', 'saw', 'the', 'other', 'day', 'it', 'was', 'a', '2', 'door', 'sports', 'car', 'looked', 'to', 'be', 'from', 'the', 'late', '60s', 'early', '70s', 'it', 'was', 'called', 'a', 'bricklin', 'the', 'doors', 'were', 'really', 'small', 'in', 'addition', 'the', 'front', 'bumper', 'was', 'separate', 'from', 'the', 'rest', 'of', 'the', 'body', 'this', 'is', 'all', 'i', 'know', 'if', 'anyone', 'can', 'tellme', 'a', 'model', 'name', 'engine', 'specs', 'years', 'of', 'production', 'where', 'this', 'car', 'is', 'made', 'history', 'or', 'whatever', 'info', 'you', 'have', 'on', 'this', 'funky', 'looking', 'car', 'please', 'e', 'mail', 'thanks', 'il', 'brought', 'to', 'you', 'by', 'your', 'neighborhood', 'lerxst']\n"
     ]
    }
   ],
   "source": [
    "print(tokens[0])"
   ]
  },
  {
   "cell_type": "code",
   "execution_count": 19,
   "metadata": {},
   "outputs": [
    {
     "name": "stdout",
     "output_type": "stream",
     "text": [
      "['subject', 'what', 'car', 'is', 'this', 'nntp', 'posting', 'host', 'rac3', 'wam', 'umd', 'edu', 'organization', 'university', 'of', 'maryland', 'college', 'park', 'lines', '15', 'i', 'was', 'wondering', 'if', 'anyone', 'out', 'there', 'could', 'enlighten', 'me', 'on', 'saw', 'the', 'other', 'day', 'it', 'a', '2', 'door', 'sports', 'looked', 'to', 'be', 'from', 'late', '60s', 'early', '70s', 'called', 'bricklin', 'doors', 'were', 'really', 'small', 'in', 'addition', 'front', 'bumper', 'separate', 'rest', 'body', 'all', 'know', 'can', 'tellme', 'model', 'name', 'engine', 'specs', 'years', 'production', 'where', 'made', 'history', 'or', 'whatever', 'info', 'you', 'have', 'funky', 'looking', 'please', 'e', 'mail', 'thanks', 'il', 'brought', 'by', 'your', 'neighborhood', 'lerxst', 'si', 'clock', 'poll', 'final', 'call', 'summary', 'for', 'reports', 'keywords', 'acceleration', 'upgrade', 'article', 'd', 'shelley', '1qvfo9innc3s', 'washington', '11', 'carson', 'u', 'fair', 'number', 'brave', 'souls', 'who', 'upgraded', 'their', 'oscillator', 'shared', 'experiences', 'send', 'brief', 'message', 'detailing', 'with', 'procedure', 'top', 'speed', 'attained', 'cpu', 'rated', 'add', 'cards', 'and', 'adapters', 'heat', 'sinks', 'hour', 'usage', 'per', 'floppy', 'disk', 'functionality', '800', '1', '4', 'm', 'floppies', 'are', 'especially', 'requested', 'will', 'summarizing', 'next', 'two', 'days', 'so', 'network', 'knowledge', 'base', 'done', 'haven', 't', 'answered', 'guy', 'kuo', 'guykuo']\n"
     ]
    }
   ],
   "source": [
    "words=list(model.wv.vocab)\n",
    "print(words)"
   ]
  },
  {
   "cell_type": "code",
   "execution_count": 20,
   "metadata": {},
   "outputs": [
    {
     "name": "stderr",
     "output_type": "stream",
     "text": [
      "/home/faizan/.local/lib/python3.6/site-packages/ipykernel_launcher.py:1: DeprecationWarning: Call to deprecated `__getitem__` (Method will be removed in 4.0.0, use self.wv.__getitem__() instead).\n",
      "  \"\"\"Entry point for launching an IPython kernel.\n"
     ]
    },
    {
     "data": {
      "text/html": [
       "<div>\n",
       "<style scoped>\n",
       "    .dataframe tbody tr th:only-of-type {\n",
       "        vertical-align: middle;\n",
       "    }\n",
       "\n",
       "    .dataframe tbody tr th {\n",
       "        vertical-align: top;\n",
       "    }\n",
       "\n",
       "    .dataframe thead th {\n",
       "        text-align: right;\n",
       "    }\n",
       "</style>\n",
       "<table border=\"1\" class=\"dataframe\">\n",
       "  <thead>\n",
       "    <tr style=\"text-align: right;\">\n",
       "      <th></th>\n",
       "      <th>0</th>\n",
       "      <th>1</th>\n",
       "      <th>2</th>\n",
       "      <th>3</th>\n",
       "      <th>4</th>\n",
       "      <th>5</th>\n",
       "      <th>6</th>\n",
       "      <th>7</th>\n",
       "      <th>8</th>\n",
       "      <th>9</th>\n",
       "      <th>...</th>\n",
       "      <th>40</th>\n",
       "      <th>41</th>\n",
       "      <th>42</th>\n",
       "      <th>43</th>\n",
       "      <th>44</th>\n",
       "      <th>45</th>\n",
       "      <th>46</th>\n",
       "      <th>47</th>\n",
       "      <th>48</th>\n",
       "      <th>49</th>\n",
       "    </tr>\n",
       "  </thead>\n",
       "  <tbody>\n",
       "    <tr>\n",
       "      <th>0</th>\n",
       "      <td>-0.006159</td>\n",
       "      <td>-0.002038</td>\n",
       "      <td>-0.008283</td>\n",
       "      <td>0.007231</td>\n",
       "      <td>0.004854</td>\n",
       "      <td>0.006627</td>\n",
       "      <td>-0.002240</td>\n",
       "      <td>0.002163</td>\n",
       "      <td>0.003164</td>\n",
       "      <td>-0.008127</td>\n",
       "      <td>...</td>\n",
       "      <td>0.008836</td>\n",
       "      <td>0.002035</td>\n",
       "      <td>-0.001149</td>\n",
       "      <td>-0.003106</td>\n",
       "      <td>0.009822</td>\n",
       "      <td>-0.009209</td>\n",
       "      <td>0.009649</td>\n",
       "      <td>-0.009145</td>\n",
       "      <td>0.002875</td>\n",
       "      <td>0.008992</td>\n",
       "    </tr>\n",
       "    <tr>\n",
       "      <th>1</th>\n",
       "      <td>-0.002437</td>\n",
       "      <td>0.007038</td>\n",
       "      <td>-0.007447</td>\n",
       "      <td>0.001878</td>\n",
       "      <td>-0.002626</td>\n",
       "      <td>0.000056</td>\n",
       "      <td>-0.003617</td>\n",
       "      <td>0.010040</td>\n",
       "      <td>0.000492</td>\n",
       "      <td>0.002187</td>\n",
       "      <td>...</td>\n",
       "      <td>-0.005974</td>\n",
       "      <td>-0.007696</td>\n",
       "      <td>-0.006996</td>\n",
       "      <td>0.008950</td>\n",
       "      <td>0.002877</td>\n",
       "      <td>-0.005012</td>\n",
       "      <td>-0.002548</td>\n",
       "      <td>-0.006761</td>\n",
       "      <td>0.005953</td>\n",
       "      <td>-0.004405</td>\n",
       "    </tr>\n",
       "    <tr>\n",
       "      <th>2</th>\n",
       "      <td>0.007539</td>\n",
       "      <td>0.006360</td>\n",
       "      <td>-0.001291</td>\n",
       "      <td>0.004461</td>\n",
       "      <td>0.000350</td>\n",
       "      <td>0.004237</td>\n",
       "      <td>-0.005791</td>\n",
       "      <td>0.003055</td>\n",
       "      <td>-0.004411</td>\n",
       "      <td>0.006407</td>\n",
       "      <td>...</td>\n",
       "      <td>-0.001431</td>\n",
       "      <td>0.009218</td>\n",
       "      <td>-0.001148</td>\n",
       "      <td>-0.003651</td>\n",
       "      <td>0.006591</td>\n",
       "      <td>-0.005299</td>\n",
       "      <td>-0.009316</td>\n",
       "      <td>-0.007990</td>\n",
       "      <td>0.007957</td>\n",
       "      <td>0.000671</td>\n",
       "    </tr>\n",
       "    <tr>\n",
       "      <th>3</th>\n",
       "      <td>-0.000722</td>\n",
       "      <td>0.007324</td>\n",
       "      <td>-0.007924</td>\n",
       "      <td>0.002163</td>\n",
       "      <td>-0.001603</td>\n",
       "      <td>0.000322</td>\n",
       "      <td>-0.009031</td>\n",
       "      <td>0.002814</td>\n",
       "      <td>-0.009120</td>\n",
       "      <td>-0.002931</td>\n",
       "      <td>...</td>\n",
       "      <td>-0.002212</td>\n",
       "      <td>0.001348</td>\n",
       "      <td>-0.000965</td>\n",
       "      <td>0.003553</td>\n",
       "      <td>-0.005558</td>\n",
       "      <td>-0.004000</td>\n",
       "      <td>0.000090</td>\n",
       "      <td>0.003038</td>\n",
       "      <td>0.004712</td>\n",
       "      <td>0.004589</td>\n",
       "    </tr>\n",
       "    <tr>\n",
       "      <th>4</th>\n",
       "      <td>-0.008534</td>\n",
       "      <td>-0.001546</td>\n",
       "      <td>-0.002557</td>\n",
       "      <td>0.006721</td>\n",
       "      <td>0.002596</td>\n",
       "      <td>0.001478</td>\n",
       "      <td>-0.005858</td>\n",
       "      <td>0.000136</td>\n",
       "      <td>-0.001316</td>\n",
       "      <td>-0.008659</td>\n",
       "      <td>...</td>\n",
       "      <td>-0.000803</td>\n",
       "      <td>0.003153</td>\n",
       "      <td>-0.001790</td>\n",
       "      <td>-0.003509</td>\n",
       "      <td>0.006216</td>\n",
       "      <td>-0.001143</td>\n",
       "      <td>-0.004711</td>\n",
       "      <td>0.000105</td>\n",
       "      <td>0.008190</td>\n",
       "      <td>0.000413</td>\n",
       "    </tr>\n",
       "  </tbody>\n",
       "</table>\n",
       "<p>5 rows × 50 columns</p>\n",
       "</div>"
      ],
      "text/plain": [
       "         0         1         2         3         4         5         6   \\\n",
       "0 -0.006159 -0.002038 -0.008283  0.007231  0.004854  0.006627 -0.002240   \n",
       "1 -0.002437  0.007038 -0.007447  0.001878 -0.002626  0.000056 -0.003617   \n",
       "2  0.007539  0.006360 -0.001291  0.004461  0.000350  0.004237 -0.005791   \n",
       "3 -0.000722  0.007324 -0.007924  0.002163 -0.001603  0.000322 -0.009031   \n",
       "4 -0.008534 -0.001546 -0.002557  0.006721  0.002596  0.001478 -0.005858   \n",
       "\n",
       "         7         8         9   ...        40        41        42        43  \\\n",
       "0  0.002163  0.003164 -0.008127  ...  0.008836  0.002035 -0.001149 -0.003106   \n",
       "1  0.010040  0.000492  0.002187  ... -0.005974 -0.007696 -0.006996  0.008950   \n",
       "2  0.003055 -0.004411  0.006407  ... -0.001431  0.009218 -0.001148 -0.003651   \n",
       "3  0.002814 -0.009120 -0.002931  ... -0.002212  0.001348 -0.000965  0.003553   \n",
       "4  0.000136 -0.001316 -0.008659  ... -0.000803  0.003153 -0.001790 -0.003509   \n",
       "\n",
       "         44        45        46        47        48        49  \n",
       "0  0.009822 -0.009209  0.009649 -0.009145  0.002875  0.008992  \n",
       "1  0.002877 -0.005012 -0.002548 -0.006761  0.005953 -0.004405  \n",
       "2  0.006591 -0.005299 -0.009316 -0.007990  0.007957  0.000671  \n",
       "3 -0.005558 -0.004000  0.000090  0.003038  0.004712  0.004589  \n",
       "4  0.006216 -0.001143 -0.004711  0.000105  0.008190  0.000413  \n",
       "\n",
       "[5 rows x 50 columns]"
      ]
     },
     "execution_count": 20,
     "metadata": {},
     "output_type": "execute_result"
    }
   ],
   "source": [
    "X=model[model.wv.vocab]\n",
    "df=pd.DataFrame(X)\n",
    "df.head()"
   ]
  },
  {
   "cell_type": "code",
   "execution_count": 23,
   "metadata": {},
   "outputs": [],
   "source": [
    "#Computing the correlation matrix\n",
    "X_corr=df.corr()\n",
    "\n",
    "#Computing eigen values and eigen vectors\n",
    "values,vectors=np.linalg.eig(X_corr)\n",
    "\n",
    "#Sorting the eigen vectors coresponding to eigen values in descending order\n",
    "args = (-values).argsort()\n",
    "values = vectors[args]\n",
    "vectors = vectors[:, args]\n",
    "\n",
    "#Taking first 2 components which explain maximum variance for projecting\n",
    "new_vectors=vectors[:,:3=]\n",
    "\n",
    "#Projecting it onto new dimesion with 2 axis\n",
    "new_X=np.dot(X,new_vectors)"
   ]
  },
  {
   "cell_type": "code",
   "execution_count": 24,
   "metadata": {},
   "outputs": [
    {
     "data": {
      "text/plain": [
       "array([[ 1.43280098e-02, -1.57463859e-02,  1.56401861e-02],\n",
       "       [-6.23564702e-03, -1.11571595e-03, -9.82795741e-03],\n",
       "       [-7.30265301e-03, -1.06308909e-02,  4.27502884e-03],\n",
       "       [-8.73130731e-03,  1.03493118e-02, -5.85053816e-03],\n",
       "       [ 5.72937769e-03, -5.95040087e-03,  5.30486468e-04],\n",
       "       [ 1.94144513e-02,  3.89171963e-03,  8.14457966e-03],\n",
       "       [ 3.55344547e-03, -8.19582723e-03, -1.24808924e-02],\n",
       "       [-7.79024089e-03, -2.82446100e-03, -4.00239636e-03],\n",
       "       [ 3.20633716e-04, -7.09685678e-03, -6.19942110e-03],\n",
       "       [ 7.05963580e-04,  3.88592229e-03, -8.34989106e-04],\n",
       "       [ 3.65502274e-03,  6.21400928e-03,  5.74905189e-03],\n",
       "       [ 8.04291220e-03, -1.80049924e-02,  8.10436080e-03],\n",
       "       [-1.13911672e-04,  9.31464618e-03, -1.18313771e-02],\n",
       "       [ 3.29399664e-04,  4.36001432e-03, -3.84817089e-03],\n",
       "       [ 7.98657181e-03,  2.15502725e-03, -5.19850826e-04],\n",
       "       [-4.74395504e-03,  1.33543161e-02, -8.13187349e-04],\n",
       "       [ 9.60383723e-03,  7.45397478e-03, -1.02565873e-02],\n",
       "       [ 4.00092193e-04,  4.09407100e-03,  1.09830464e-02],\n",
       "       [ 4.23558972e-03, -6.76489509e-03,  1.89186262e-03],\n",
       "       [-1.13086855e-02,  6.47799243e-03, -1.02866471e-02],\n",
       "       [-1.72143153e-02,  3.11913640e-03, -5.25072088e-03],\n",
       "       [-5.83482436e-03,  5.69747350e-03, -1.49690471e-02],\n",
       "       [-1.54988328e-02,  9.14767106e-03,  5.94441666e-03],\n",
       "       [-2.34211397e-03,  5.34869315e-03, -1.09884999e-03],\n",
       "       [ 1.08846984e-02, -7.24060246e-03, -3.56487714e-04],\n",
       "       [ 4.93626253e-03, -7.76070481e-03,  1.40511986e-02],\n",
       "       [-9.56781511e-03,  7.41703605e-03,  5.82726405e-04],\n",
       "       [ 4.39925360e-03,  3.51741771e-03,  1.66281818e-02],\n",
       "       [-4.08982217e-04, -5.13840824e-03, -3.53303620e-03],\n",
       "       [-9.98597052e-03,  6.64024397e-03, -1.44293074e-02],\n",
       "       [ 3.08229387e-04, -1.48801041e-02,  6.30381070e-03],\n",
       "       [ 1.22832890e-02, -4.11288896e-03,  5.69670682e-03],\n",
       "       [-3.56458632e-03,  1.94234501e-02, -3.11602031e-03],\n",
       "       [-6.27867674e-03,  1.97859811e-03,  8.22986212e-03],\n",
       "       [ 7.28129876e-03,  6.43367273e-03,  1.57139543e-02],\n",
       "       [ 5.83064116e-03, -1.03404851e-02, -5.85994881e-03],\n",
       "       [-1.83757551e-03, -1.07255953e-02,  2.39517890e-04],\n",
       "       [ 3.98352315e-04, -1.16260390e-02,  7.38902089e-04],\n",
       "       [-7.30554288e-06,  1.87059259e-02,  9.85407143e-03],\n",
       "       [ 1.58975543e-02,  4.13100881e-03, -1.04826627e-02],\n",
       "       [ 1.64839256e-02,  1.54514550e-03,  1.20569124e-03],\n",
       "       [-8.81885551e-04,  2.49908376e-03,  2.96965915e-04],\n",
       "       [-8.38914160e-03,  7.72103331e-03, -5.20639649e-03],\n",
       "       [ 1.86373328e-02,  2.91464098e-04, -4.95963873e-03],\n",
       "       [ 2.00903494e-02, -3.72417444e-03, -2.77720796e-04],\n",
       "       [-4.03257228e-03,  1.22372045e-02,  4.72891859e-03],\n",
       "       [-9.88443437e-03,  1.07718591e-02,  1.49283402e-02],\n",
       "       [ 1.36695198e-03,  7.47998309e-03,  2.60576642e-03],\n",
       "       [ 1.12687530e-02, -3.31083423e-03,  1.05344202e-02],\n",
       "       [ 1.05311116e-03,  9.93891072e-03,  1.33861955e-02],\n",
       "       [-5.71001630e-03, -1.52029841e-02, -3.14640524e-03],\n",
       "       [-1.19108244e-03,  2.71897851e-03, -8.00812973e-03],\n",
       "       [-6.17152406e-03, -6.89608910e-03,  7.33913181e-03],\n",
       "       [ 4.58053617e-03, -9.63207693e-03, -4.82579066e-03],\n",
       "       [-7.42887635e-03, -4.47056830e-05,  5.53727939e-03],\n",
       "       [-6.38483250e-03, -3.15155338e-03,  3.18960084e-03],\n",
       "       [ 9.20673109e-03, -1.35833856e-02, -1.66380483e-02],\n",
       "       [ 2.98493463e-03, -7.09928299e-03,  1.21565399e-04],\n",
       "       [ 9.32285577e-03,  4.28749572e-03, -9.83899978e-03],\n",
       "       [ 2.36169931e-03,  1.01895068e-02,  6.15584311e-04],\n",
       "       [-7.79597340e-03,  1.15313829e-02, -1.32990923e-03],\n",
       "       [-1.43138381e-03,  1.84889138e-03,  1.75744803e-03],\n",
       "       [-9.83588194e-04, -1.17043039e-02,  2.32408795e-03],\n",
       "       [-1.73980664e-02, -1.77816173e-04,  1.24203607e-02],\n",
       "       [-5.00098440e-03, -3.42626066e-03, -8.09789586e-04],\n",
       "       [ 1.03804662e-02,  5.79201629e-03,  5.58189671e-03],\n",
       "       [ 6.10913849e-03, -3.10553056e-03, -5.69769756e-03],\n",
       "       [ 1.11074295e-02,  1.69134339e-02, -5.87447056e-03],\n",
       "       [-1.44207258e-04, -1.84900239e-02,  2.54460320e-03],\n",
       "       [-9.46582797e-03,  1.35728628e-02, -7.15699590e-03],\n",
       "       [ 7.60563685e-03, -2.12758594e-03,  5.77717806e-03],\n",
       "       [-3.96938144e-03, -1.14843558e-02, -1.56353763e-03],\n",
       "       [ 2.54517214e-04, -1.02788104e-02,  2.83806706e-03],\n",
       "       [ 5.08985500e-03, -3.33001939e-03, -1.73748541e-02],\n",
       "       [-7.23555542e-04, -1.50962264e-02, -9.76891188e-03],\n",
       "       [-9.07826464e-03, -6.70474870e-03,  1.31754382e-02],\n",
       "       [ 1.56005413e-02,  2.85387304e-03, -7.41505515e-03],\n",
       "       [ 5.84328823e-03, -5.22472179e-03, -6.08414021e-03],\n",
       "       [-1.49596318e-03,  8.36919622e-03, -6.65117337e-03],\n",
       "       [-1.46350829e-02,  6.39833252e-03,  3.71765045e-03],\n",
       "       [ 7.20323951e-03, -8.31041516e-03, -1.14500531e-02],\n",
       "       [-7.42395991e-03,  5.71500552e-04, -1.38802118e-03],\n",
       "       [ 9.13170529e-03,  1.08169136e-02, -1.56635558e-02],\n",
       "       [ 1.17431099e-03, -7.46518707e-03,  7.52470509e-03],\n",
       "       [ 9.40672949e-03, -2.49844525e-03,  5.36095030e-03],\n",
       "       [ 4.77392387e-03,  6.84086940e-03, -2.21859382e-04],\n",
       "       [ 1.10113244e-03,  8.94343428e-03,  8.89853445e-03],\n",
       "       [ 1.43882936e-03,  6.19269639e-03, -7.09408569e-04],\n",
       "       [-1.95651065e-03, -2.21791984e-03, -7.29215757e-03],\n",
       "       [-1.14522208e-02,  8.46065764e-03,  1.61359454e-02],\n",
       "       [ 9.08099972e-04, -6.62350414e-03,  8.08729271e-03],\n",
       "       [-6.27463342e-03,  7.37327451e-03, -1.44045732e-02],\n",
       "       [-4.18391251e-03,  1.19407714e-03,  8.67271199e-03],\n",
       "       [-5.38478068e-03, -1.24411102e-03, -8.81391827e-03],\n",
       "       [-1.36472533e-02, -1.52998556e-02, -7.73359804e-03],\n",
       "       [-1.39340144e-02,  3.47170083e-03, -1.44024550e-02],\n",
       "       [-1.15693166e-02, -6.64273642e-03,  4.14085089e-03],\n",
       "       [ 6.54780766e-03,  6.88664966e-03, -5.81095394e-03],\n",
       "       [ 6.62115876e-03, -7.70559149e-03,  4.88886079e-03],\n",
       "       [ 1.42105816e-02,  2.70138717e-03, -2.99157363e-03],\n",
       "       [ 3.00807171e-03,  8.32666002e-03, -1.42745008e-03],\n",
       "       [-1.75323059e-02,  7.16031062e-03, -4.10908581e-03],\n",
       "       [-1.23756097e-02,  1.08012295e-02, -4.43799988e-03],\n",
       "       [-1.39094112e-02,  1.04727126e-02, -2.04960520e-03],\n",
       "       [-1.13819492e-02, -3.14237143e-03,  3.23946899e-03],\n",
       "       [ 7.79180630e-03,  5.45679430e-03,  1.81060272e-02],\n",
       "       [ 1.02233736e-02,  4.59679655e-03, -1.40862804e-02],\n",
       "       [-9.31805213e-03, -1.67183942e-02,  7.18134022e-03],\n",
       "       [-1.36721600e-02, -1.32846283e-02, -9.98534636e-04],\n",
       "       [-1.66772161e-03,  2.91061651e-03,  5.62875670e-03],\n",
       "       [ 1.20115848e-02,  8.70054492e-04,  3.90258407e-03],\n",
       "       [ 9.93688104e-03,  1.09454262e-02, -6.14351787e-03],\n",
       "       [ 1.92569060e-02, -7.07959139e-04,  4.32038362e-03],\n",
       "       [ 5.74949753e-03, -2.18529944e-03,  6.56613133e-03],\n",
       "       [ 2.50741738e-03, -2.72851234e-03,  4.22756594e-03],\n",
       "       [ 1.01517212e-02,  1.09274157e-02, -7.98543413e-03],\n",
       "       [-2.90565669e-03,  1.19288643e-02,  7.69123403e-03],\n",
       "       [-9.09475492e-03,  9.48835443e-03, -2.35916951e-03],\n",
       "       [-2.21462371e-02, -4.63925872e-03, -1.22133069e-02],\n",
       "       [ 5.80011997e-03, -9.84669995e-03, -6.57699921e-03],\n",
       "       [-2.99723016e-03,  1.73977505e-02,  9.64040252e-04],\n",
       "       [-2.07621395e-02, -6.34807465e-03,  9.09296625e-03],\n",
       "       [-6.51404132e-04,  5.57031578e-03,  2.43206652e-03],\n",
       "       [-4.06602714e-04,  7.90876605e-04, -1.15218433e-02],\n",
       "       [ 3.53069060e-03,  8.32856972e-03,  3.03865095e-03],\n",
       "       [-5.30547004e-04, -6.08432743e-03,  1.17552852e-03],\n",
       "       [-2.38959618e-03, -9.21142736e-03, -1.14592925e-02],\n",
       "       [-1.73051063e-04,  1.65280856e-03,  5.70230068e-03],\n",
       "       [-1.43316438e-03,  7.76884122e-03,  1.46598421e-02],\n",
       "       [-4.11993647e-03, -1.59991913e-02, -9.79078283e-03],\n",
       "       [-2.25733996e-03, -8.99263153e-04, -1.16486732e-02],\n",
       "       [-1.41994566e-02,  9.51014846e-03, -9.77483950e-03],\n",
       "       [-1.30533260e-04, -1.22265209e-03, -1.63847415e-02],\n",
       "       [ 1.04335942e-02, -3.51051499e-03, -1.17783893e-02],\n",
       "       [ 2.87859934e-03,  1.62113503e-03, -1.91062156e-03],\n",
       "       [-4.10253353e-03, -6.57957024e-03,  6.84074573e-03],\n",
       "       [-3.05256828e-03,  7.87361854e-03,  1.83679637e-02],\n",
       "       [ 2.45103159e-03,  1.27285204e-02, -2.10992090e-03],\n",
       "       [ 2.18306098e-03,  4.58503198e-03, -9.76427306e-04],\n",
       "       [ 9.01177534e-03,  1.63335463e-02,  3.22182156e-03],\n",
       "       [ 3.61644267e-03, -9.86646778e-03,  3.38186609e-03],\n",
       "       [ 5.85748146e-04, -3.85529733e-03, -5.77042491e-03],\n",
       "       [ 1.08095366e-02,  6.67211706e-03, -1.24014062e-03],\n",
       "       [-8.05594540e-04, -4.32813908e-03,  1.58615799e-02],\n",
       "       [ 1.02436511e-02,  5.37067168e-03, -1.50588243e-02],\n",
       "       [ 2.77701044e-04,  1.90876759e-03,  4.15814309e-04],\n",
       "       [-3.94115156e-03, -9.46634818e-04, -2.08563417e-02],\n",
       "       [ 1.14411236e-03, -1.01782652e-02,  2.09481736e-03],\n",
       "       [ 2.62573527e-03, -3.75705025e-03, -4.37147556e-03],\n",
       "       [-2.10813121e-03,  1.34071727e-02,  5.90840660e-03],\n",
       "       [ 7.60236914e-03,  7.97347569e-03,  1.16210429e-02],\n",
       "       [ 6.44208910e-03,  1.05395162e-02, -9.41307801e-04],\n",
       "       [ 5.93880253e-03, -1.20633552e-02, -8.77433498e-03],\n",
       "       [-1.06019816e-02,  1.15114753e-02,  5.73286502e-03],\n",
       "       [ 8.19792692e-03,  1.19416382e-02, -1.86156292e-04],\n",
       "       [ 1.58200910e-02,  8.02370196e-03, -9.83085445e-04],\n",
       "       [-1.49708217e-02, -1.49882918e-02,  4.64690545e-04],\n",
       "       [ 2.79527385e-03, -1.35012996e-03,  1.14844237e-02],\n",
       "       [-1.09979908e-02,  4.96819595e-03, -1.07643859e-02],\n",
       "       [-2.98243245e-03,  1.55979192e-03, -1.12909293e-02],\n",
       "       [ 2.01299197e-02, -2.36028642e-03,  1.29845760e-03],\n",
       "       [-1.44662531e-03,  3.75597102e-03, -8.32711671e-03],\n",
       "       [ 4.61341308e-03, -2.03323676e-03, -1.04686251e-02],\n",
       "       [ 1.49271495e-03, -2.41779782e-03,  7.66861099e-03],\n",
       "       [ 6.86088954e-03,  7.42349159e-03, -7.52683548e-03],\n",
       "       [-6.03243040e-03,  2.43301198e-03,  7.16616329e-03],\n",
       "       [ 7.32008203e-03,  4.53601825e-03,  5.33879205e-03],\n",
       "       [ 1.15369181e-02,  1.89640507e-02, -5.16995306e-03],\n",
       "       [-2.04111053e-03, -2.60783470e-03, -1.20880757e-03],\n",
       "       [-8.00422071e-04, -2.81666626e-03, -1.24899653e-02]])"
      ]
     },
     "execution_count": 24,
     "metadata": {},
     "output_type": "execute_result"
    }
   ],
   "source": [
    "new_X"
   ]
  },
  {
   "cell_type": "code",
   "execution_count": 25,
   "metadata": {},
   "outputs": [
    {
     "data": {
      "image/png": "[encoded data removed]",
      "text/plain": [
       "<Figure size 936x504 with 1 Axes>"
      ]
     },
     "metadata": {
      "needs_background": "light"
     },
     "output_type": "display_data"
    }
   ],
   "source": [
    "import matplotlib.pyplot as plt\n",
    "plt.figure(figsize=(13,7))\n",
    "plt.scatter(new_X[:,0],new_X[:,1],linewidths=10,color='blue')\n",
    "plt.xlabel(\"PC1\",size=15)\n",
    "plt.ylabel(\"PC2\",size=15)\n",
    "plt.title(\"Word Embedding Space\",size=20)\n",
    "vocab=list(model.wv.vocab)\n",
    "for i, word in enumerate(vocab):\n",
    "    plt.annotate(word,xy=(new_X[i,0],new_X[i,1]))"
   ]
  },
  {
   "cell_type": "code",
   "execution_count": 26,
   "metadata": {},
   "outputs": [],
   "source": [
    "tf_idf = TfidfVectorizer()\n",
    "X_train_tfidf = tf_idf.fit_transform(df_train['cleaned_message'][0:2000])"
   ]
  },
  {
   "cell_type": "code",
   "execution_count": 27,
   "metadata": {},
   "outputs": [
    {
     "data": {
      "text/plain": [
       "(2000, 50919)"
      ]
     },
     "execution_count": 27,
     "metadata": {},
     "output_type": "execute_result"
    }
   ],
   "source": [
    "X_train_tfidf.toarray().shape"
   ]
  },
  {
   "cell_type": "code",
   "execution_count": 28,
   "metadata": {},
   "outputs": [],
   "source": [
    "clf = MultinomialNB().fit(X_train_tfidf, y_train[0:2000])"
   ]
  },
  {
   "cell_type": "code",
   "execution_count": 29,
   "metadata": {},
   "outputs": [],
   "source": [
    "X_test_vectors = tf_idf.transform(X_test)"
   ]
  },
  {
   "cell_type": "code",
   "execution_count": 30,
   "metadata": {},
   "outputs": [],
   "source": [
    "y_pred = clf.predict(X_test_vectors)"
   ]
  },
  {
   "cell_type": "code",
   "execution_count": 31,
   "metadata": {},
   "outputs": [],
   "source": [
    "from sklearn.metrics import classification_report"
   ]
  },
  {
   "cell_type": "code",
   "execution_count": 32,
   "metadata": {},
   "outputs": [
    {
     "name": "stdout",
     "output_type": "stream",
     "text": [
      "              precision    recall  f1-score   support\n",
      "\n",
      "           0       0.18      0.84      0.30        69\n",
      "           1       0.20      0.92      0.33        84\n",
      "           2       0.61      0.58      0.59       414\n",
      "           3       0.44      0.78      0.57       223\n",
      "           4       0.64      0.69      0.66       360\n",
      "           5       0.38      0.91      0.53       163\n",
      "           6       0.55      0.91      0.69       235\n",
      "           7       0.79      0.77      0.78       405\n",
      "           8       0.73      0.87      0.79       331\n",
      "           9       0.66      0.94      0.77       277\n",
      "          10       0.90      0.90      0.90       400\n",
      "          11       0.88      0.65      0.75       533\n",
      "          12       0.34      0.68      0.45       197\n",
      "          13       0.23      0.93      0.37        99\n",
      "          14       0.34      0.96      0.50       137\n",
      "          15       1.00      0.13      0.24      2943\n",
      "          16       0.69      0.65      0.67       387\n",
      "          17       0.59      0.92      0.72       241\n",
      "          18       0.11      1.00      0.19        33\n",
      "          19       0.00      1.00      0.01         1\n",
      "\n",
      "    accuracy                           0.53      7532\n",
      "   macro avg       0.51      0.80      0.54      7532\n",
      "weighted avg       0.78      0.53      0.50      7532\n",
      "\n"
     ]
    }
   ],
   "source": [
    "print(classification_report(y_pred, y_test))"
   ]
  },
  {
   "cell_type": "code",
   "execution_count": 33,
   "metadata": {},
   "outputs": [],
   "source": [
    "from sklearn import decomposition\n",
    "pca = decomposition.PCA()"
   ]
  },
  {
   "cell_type": "code",
   "execution_count": 34,
   "metadata": {},
   "outputs": [],
   "source": [
    "pca.n_components = 5\n",
    "pca_data = pca.fit_transform(X_train_tfidf.toarray())"
   ]
  },
  {
   "cell_type": "code",
   "execution_count": 35,
   "metadata": {},
   "outputs": [],
   "source": [
    "# vectorizer = CountVectorizer(ngram_range=(2,2))\n",
    "\n",
    "# file=open('data/test.ft.txt','r',encoding=\"utf-8\")\n",
    "\n",
    "# g=file.read()\n",
    "\n",
    "# sentences=sent_tokenize(g)\n",
    "# # \n",
    "# wn=WordNetLemmatizer()"
   ]
  },
  {
   "cell_type": "code",
   "execution_count": 36,
   "metadata": {},
   "outputs": [
    {
     "data": {
      "text/plain": [
       "array([[ 0.01630976,  0.00944737,  0.01332749,  0.06049661, -0.01261456],\n",
       "       [-0.10185022,  0.03455568,  0.0033994 , -0.00075754, -0.04798595],\n",
       "       [ 0.1428415 ,  0.04778686,  0.09518791,  0.06274917, -0.02978408],\n",
       "       ...,\n",
       "       [ 0.02630879,  0.01726011,  0.034417  ,  0.03023827, -0.01063237],\n",
       "       [ 0.12509363,  0.02084248, -0.04477271, -0.07978614,  0.03627893],\n",
       "       [ 0.12223219, -0.16399368, -0.10841335, -0.04809033, -0.10508542]])"
      ]
     },
     "execution_count": 36,
     "metadata": {},
     "output_type": "execute_result"
    }
   ],
   "source": [
    "pca_data"
   ]
  },
  {
   "cell_type": "code",
   "execution_count": 37,
   "metadata": {},
   "outputs": [],
   "source": [
    "pca_df = pd.DataFrame(pca_data, columns = ['principal component 1', 'principal component 2','principal component 3','principal component 4','principal component 5'])"
   ]
  },
  {
   "cell_type": "code",
   "execution_count": 38,
   "metadata": {},
   "outputs": [],
   "source": [
    "pca_df['target'] = y_train[0:2000]"
   ]
  },
  {
   "cell_type": "code",
   "execution_count": 39,
   "metadata": {},
   "outputs": [
    {
     "data": {
      "image/png": "[encoded data removed]",
      "text/plain": [
       "<Figure size 576x576 with 1 Axes>"
      ]
     },
     "metadata": {
      "needs_background": "light"
     },
     "output_type": "display_data"
    }
   ],
   "source": [
    "fig = plt.figure(figsize = (8,8))\n",
    "ax = fig.add_subplot(1,1,1) \n",
    "ax.set_xlabel('Principal Component 1', fontsize = 15)\n",
    "ax.set_ylabel('Principal Component 2', fontsize = 15)\n",
    "ax.set_title('2 component PCA', fontsize = 20)\n",
    "colors = ['r', 'g', 'b']\n",
    "targets = list(set(y_train[0:2000]))\n",
    "for target, color in zip(targets,colors):\n",
    "    indicesToKeep = pca_df['target'] == target\n",
    "    ax.scatter(pca_df.loc[indicesToKeep, 'principal component 1']\n",
    "               , pca_df.loc[indicesToKeep, 'principal component 2']\n",
    "               , c = color\n",
    "               , s = 50)\n",
    "ax.legend(targets)\n",
    "ax.grid()"
   ]
  },
  {
   "cell_type": "code",
   "execution_count": null,
   "metadata": {},
   "outputs": [],
   "source": [
    "\n",
    "# def preprocess_text(text):\n",
    "#     tokens = word_tokenize(text)\n",
    "#     stop_words=stopwords.words('english')\n",
    "#     stop_words.extend(['__label__1','__label__2'])\n",
    "#     tokens=[token.lower() for token in tokens if token not in stop_words]\n",
    "#     tokens=[re.sub(r'[^A-Za-z]+','',token) for token in tokens]\n",
    "#     tokens=[wn.lemmatize(token) for token in tokens]\n",
    "#     return tokens  \n",
    "\n",
    "\n",
    "# text_tokens=[]\n",
    "# for item in sentences[0:1000]:\n",
    "#     tokens = preprocess_text(item)\n",
    "#     temp = \" \".join(tokens)\n",
    "#     text_tokens.append(temp)    \n",
    "\n",
    "\n",
    "\n",
    "# word_dist = FreqDist()\n",
    "# for s in text_tokens:\n",
    "#     word_dist.update(s.split())\n",
    "\n",
    "# ########################################################################################\n",
    "\n",
    "\n",
    "\n",
    "# text=''\n",
    "# for sent in text_tokens:\n",
    "#     text=text+sent\n",
    "\n",
    "# tokens=word_tokenize(text)    \n",
    "# bigrams = ngrams(tokens,2)\n",
    "\n",
    "# bigram_dict=dict(Counter(bigrams))\n",
    "\n",
    "# final_bigram_dict={}\n",
    "# for key,value in bigram_dict.items():\n",
    "#     new_key=\" \".join(key)\n",
    "#     final_bigram_dict[new_key]=value\n",
    "\n",
    "# unigram_index= CountVectorizer(ngram_range=(1,1))\n",
    "# unigram_index.fit_transform(text_tokens)\n",
    "# unigram_dist = unigram_index.vocabulary_\n",
    "\n",
    "\n",
    "# def pmi(word1, word2 ,unigram_freq, bigram_freq):\n",
    "#     #print(word1,word2)\n",
    "#     prob_word1 = unigram_freq[word1]/float(sum(unigram_freq.values()))\n",
    "#     #print(prob_word1)\n",
    "#     prob_word2 = unigram_freq[word2]/float(sum(unigram_freq.values()))\n",
    "#     #print(prob_word2)\n",
    "#     prob_word1_word2 = bigram_freq[\" \".join([word1,word2])]/float(sum(bigram_freq.values()))\n",
    "#     #print(prob_word1_word2)\n",
    "#     ratio = prob_word1_word2/float(prob_word1*prob_word2)\n",
    "#     #print(word1,word2,prob_word1,prob_word2)\n",
    "#     if ratio==0:\n",
    "#         return 0\n",
    "#     else:\n",
    "#         return math.log(ratio,2)\n",
    "\n",
    "# pmi_dict={}\n",
    "# for key in final_bigram_dict.keys():\n",
    "#     first_word = key.split()[0]\n",
    "#     second_word = key.split()[1]\n",
    "#     if (first_word in word_dist.keys()) and (second_word in word_dist.keys()):\n",
    "#         pmi_dict[key]=pmi(key.split()[0],key.split()[1],word_dist,final_bigram_dict)\n",
    "#     else:\n",
    "#         pmi_dict[key]=0\n",
    "\n",
    "\n",
    "# start = '\\s'\n",
    "# end= '\\e'\n",
    "\n",
    "    \n",
    "# context_word_pairs={}\n",
    "# for story_id in range(0,len(text_tokens)):\n",
    "#     text_tokens[story_id] = start +' '+ text_tokens[story_id] +' '+ end\n",
    "#     list_of_words=text_tokens[story_id].split()\n",
    "#     context_word_pairs[story_id] = {}\n",
    "#     for word_index in range(1,len(list_of_words)-1):\n",
    "#         context_word_pairs[story_id][list_of_words[word_index]]=[list_of_words[word_index-1],list_of_words[word_index+1]]\n",
    "# #    \n",
    "# #tokens=[]\n",
    "# #for s in text_tokens:\n",
    "# #    tokens.extend(word_tokenize(s))\n",
    "# #\n",
    "# #unique_words=set(tokens)\n",
    "# #\n",
    "# list_cw_pairs=[]\n",
    "# for i in range(0,len(context_word_pairs)):\n",
    "#     list_cw_pairs.append(context_word_pairs[i])\n",
    "# #\n",
    "# #for word in unique_words:\n",
    "# #    print(context_word_pairs.get(word))\n",
    "    \n",
    "\n",
    "\n",
    "# def foo(r, d):\n",
    "#     for k in d:\n",
    "#         r[k].append(d[k])\n",
    "    \n",
    "# d = reduce(lambda r, d: foo(r, d) or r, list_cw_pairs, defaultdict(list))    \n",
    "    \n",
    "    \n",
    "# final_dict={}\n",
    "# for k,v in d.items():\n",
    "#     tmp_list_before=[]\n",
    "#     tmp_list_after=[]\n",
    "#     for x in range(0,len(v)):\n",
    "#         tmp_list_before.append(v[x][0])\n",
    "#         tmp_list_after.append(v[x][1])\n",
    "#     final_dict[k]=[tmp_list_before,tmp_list_after]\n",
    "    \n",
    "# def create_vectors(word,context):\n",
    "#     #print(word)\n",
    "#     #print(context)\n",
    "#     vector = np.zeros((len(word_dist.keys()),)) \n",
    "#     for x in range(0,len(context[0])):\n",
    "#         temp_word_1 = context[0][x]+\" \" + word\n",
    "#         if temp_word_1 in pmi_dict.keys():\n",
    "#             vector[word_dist[context[0][x]]] = pmi_dict[temp_word_1]\n",
    "#     for y in range(0,len(context[1])):\n",
    "#         temp_word_2 = word + \" \" + context[1][y]\n",
    "#         if temp_word_2 in pmi_dict.keys():\n",
    "#             vector[word_dist[context[1][y]]] = pmi_dict[temp_word_2]\n",
    "#     return vector\n",
    "\n",
    "# word_vectors=[]\n",
    "# word_list=[]\n",
    "# for w,v in final_dict.items():\n",
    "#     if w!=\"\":\n",
    "#         word_vectors.append(create_vectors(w,v))\n",
    "#         word_list.append(w)\n",
    " \n",
    " \n",
    "        \n",
    "        \n",
    "\n",
    "\n",
    "# pca=PCA(n_components=300)\n",
    "\n",
    "# principalComponents=pca.fit_transform(word_vectors)\n",
    "\n",
    "# '''\n",
    "# new_pca = PCA(n_components = 2)\n",
    "# n=new_pca.fit_transform(principalComponents)\n",
    "# plt.scatter(n[:,0],n[:,1])\n",
    "\n",
    "# for i,word in enumerate(word_list[0:300]):\n",
    "#     plt.annotate(word,xy=(n[i,0],n[i,1]))\n",
    "# plt.show()\n",
    "\n",
    "# '''\n",
    "# labels = []\n",
    "# tokens = []\n",
    "\n",
    "# for word in range(0,len(word_list)):\n",
    "#     tokens.append(word_vectors[word])\n",
    "#     labels.append(word_list[word])\n",
    "\n",
    "# tsne_model = TSNE(perplexity=40, n_components=2, init='pca', n_iter=2500, random_state=23)\n",
    "# new_values = tsne_model.fit_transform(tokens)\n",
    "\n",
    "# x = []\n",
    "# y = []\n",
    "# for value in new_values:\n",
    "#     x.append(value[0])\n",
    "#     y.append(value[1])\n",
    "    \n",
    "# plt.figure(figsize=(16, 16)) \n",
    "# for i in range(len(x)):\n",
    "#     plt.scatter(x[i],y[i])\n",
    "#     plt.annotate(labels[i],\n",
    "#                  xy=(x[i], y[i]),\n",
    "#                  xytext=(5, 2),\n",
    "#                  textcoords='offset points',\n",
    "#                  ha='right',\n",
    "#                  va='bottom')\n",
    "# plt.show()\n",
    "# '''\n",
    "# from annoy import AnnoyIndex\n",
    "\n",
    "# num=300\n",
    "# t = AnnoyIndex(num)\n",
    "\n",
    "# for i in range(0,len(principalComponents)):\n",
    "#     t.add_item(i,principalComponents[i])\n",
    "    \n",
    "# t.build(10)\n",
    "    \n",
    "# print(word_list[0])\n",
    "# #print(t.get_nns_by_item(0,5))\n",
    "# for i in t.get_nns_by_item(0,5):\n",
    "#     print(word_list[i])\n",
    "# #print(t.get_distance(1,4))\n",
    "\n",
    "# #print(t.get_distance(18,24))\n"
   ]
  },
  {
   "cell_type": "code",
   "execution_count": null,
   "metadata": {},
   "outputs": [],
   "source": []
  },
  {
   "cell_type": "code",
   "execution_count": null,
   "metadata": {},
   "outputs": [],
   "source": []
  },
  {
   "cell_type": "code",
   "execution_count": null,
   "metadata": {},
   "outputs": [],
   "source": []
  },
  {
   "cell_type": "code",
   "execution_count": null,
   "metadata": {},
   "outputs": [],
   "source": []
  },
  {
   "cell_type": "code",
   "execution_count": null,
   "metadata": {},
   "outputs": [],
   "source": []
  },
  {
   "cell_type": "code",
   "execution_count": null,
   "metadata": {},
   "outputs": [],
   "source": []
  }
 ],
 "metadata": {
  "kernelspec": {
   "display_name": "Python 3",
   "language": "python",
   "name": "python3"
  },
  "language_info": {
   "codemirror_mode": {
    "name": "ipython",
    "version": 3
   },
   "file_extension": ".py",
   "mimetype": "text/x-python",
   "name": "python",
   "nbconvert_exporter": "python",
   "pygments_lexer": "ipython3",
   "version": "3.6.8"
  }
 },
 "nbformat": 4,
 "nbformat_minor": 2
}
